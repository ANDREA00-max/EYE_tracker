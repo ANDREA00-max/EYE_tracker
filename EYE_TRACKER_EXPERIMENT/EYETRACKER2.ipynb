{
 "cells": [
  {
   "cell_type": "code",
   "execution_count": 1,
   "metadata": {},
   "outputs": [],
   "source": [
    "import pandas as pd\n",
    "\n",
    "NEWDF = pd.read_excel('AROUSAL.xlsx')"
   ]
  },
  {
   "cell_type": "code",
   "execution_count": 3,
   "metadata": {},
   "outputs": [],
   "source": []
  },
  {
   "cell_type": "code",
   "execution_count": 26,
   "metadata": {},
   "outputs": [
    {
     "name": "stdout",
     "output_type": "stream",
     "text": [
      "<class 'pandas.core.frame.DataFrame'>\n",
      "RangeIndex: 84 entries, 0 to 83\n",
      "Data columns (total 11 columns):\n",
      " FSX FIXMEAN    84 non-null float64\n",
      "DX FIXMEAN      84 non-null float64\n",
      "MEANMOB SX      84 non-null float64\n",
      "MEANMOB DX      84 non-null float64\n",
      "HF MOB          84 non-null float64\n",
      "HF FIX          84 non-null float64\n",
      "LF MOB          84 non-null float64\n",
      "LF FIX          84 non-null float64\n",
      "LF/HF FIX       84 non-null float64\n",
      "LF/HF MOB       84 non-null float64\n",
      "\"TARGET\"        84 non-null int64\n",
      "dtypes: float64(10), int64(1)\n",
      "memory usage: 7.3 KB\n"
     ]
    }
   ],
   "source": [
    "NEWDF.info()"
   ]
  },
  {
   "cell_type": "markdown",
   "metadata": {},
   "source": [
    "DATA PREPARATION"
   ]
  },
  {
   "cell_type": "code",
   "execution_count": 32,
   "metadata": {},
   "outputs": [],
   "source": [
    "import numpy as np\n",
    "\n",
    "from scipy import stats\n",
    "\n",
    "z_scores = stats.zscore(df)\n",
    "\n",
    "abs_z_scores = np.abs(z_scores)\n",
    "filtered_entries = (abs_z_scores < 3).all(axis=1)\n",
    "new_df = df[filtered_entries]"
   ]
  },
  {
   "cell_type": "code",
   "execution_count": 85,
   "metadata": {},
   "outputs": [
    {
     "data": {
      "text/html": [
       "<div>\n",
       "<style scoped>\n",
       "    .dataframe tbody tr th:only-of-type {\n",
       "        vertical-align: middle;\n",
       "    }\n",
       "\n",
       "    .dataframe tbody tr th {\n",
       "        vertical-align: top;\n",
       "    }\n",
       "\n",
       "    .dataframe thead th {\n",
       "        text-align: right;\n",
       "    }\n",
       "</style>\n",
       "<table border=\"1\" class=\"dataframe\">\n",
       "  <thead>\n",
       "    <tr style=\"text-align: right;\">\n",
       "      <th></th>\n",
       "      <th>FSX FIXMEAN</th>\n",
       "      <th>DX FIXMEAN</th>\n",
       "      <th>MEANMOB SX</th>\n",
       "      <th>MEANMOB DX</th>\n",
       "      <th>HF MOB</th>\n",
       "      <th>HF FIX</th>\n",
       "      <th>LF MOB</th>\n",
       "      <th>LF FIX</th>\n",
       "      <th>LF/HF FIX</th>\n",
       "      <th>LF/HF MOB</th>\n",
       "      <th>\"TARGET\"</th>\n",
       "    </tr>\n",
       "  </thead>\n",
       "  <tbody>\n",
       "    <tr>\n",
       "      <td>0</td>\n",
       "      <td>2.890</td>\n",
       "      <td>2.681</td>\n",
       "      <td>2.203</td>\n",
       "      <td>2.128</td>\n",
       "      <td>0.00242</td>\n",
       "      <td>0.00189</td>\n",
       "      <td>0.00526</td>\n",
       "      <td>0.00371</td>\n",
       "      <td>2.171</td>\n",
       "      <td>1.980</td>\n",
       "      <td>0</td>\n",
       "    </tr>\n",
       "    <tr>\n",
       "      <td>1</td>\n",
       "      <td>3.233</td>\n",
       "      <td>3.277</td>\n",
       "      <td>3.370</td>\n",
       "      <td>3.419</td>\n",
       "      <td>0.01320</td>\n",
       "      <td>0.00669</td>\n",
       "      <td>0.02490</td>\n",
       "      <td>0.01590</td>\n",
       "      <td>1.977</td>\n",
       "      <td>2.346</td>\n",
       "      <td>0</td>\n",
       "    </tr>\n",
       "    <tr>\n",
       "      <td>2</td>\n",
       "      <td>3.552</td>\n",
       "      <td>3.439</td>\n",
       "      <td>2.657</td>\n",
       "      <td>2.867</td>\n",
       "      <td>0.04180</td>\n",
       "      <td>0.04120</td>\n",
       "      <td>0.07220</td>\n",
       "      <td>0.07790</td>\n",
       "      <td>3.222</td>\n",
       "      <td>2.210</td>\n",
       "      <td>0</td>\n",
       "    </tr>\n",
       "    <tr>\n",
       "      <td>3</td>\n",
       "      <td>3.477</td>\n",
       "      <td>3.555</td>\n",
       "      <td>2.558</td>\n",
       "      <td>2.743</td>\n",
       "      <td>0.01700</td>\n",
       "      <td>0.00932</td>\n",
       "      <td>0.01660</td>\n",
       "      <td>0.00996</td>\n",
       "      <td>1.047</td>\n",
       "      <td>1.120</td>\n",
       "      <td>0</td>\n",
       "    </tr>\n",
       "    <tr>\n",
       "      <td>4</td>\n",
       "      <td>3.712</td>\n",
       "      <td>3.588</td>\n",
       "      <td>2.771</td>\n",
       "      <td>2.996</td>\n",
       "      <td>0.00675</td>\n",
       "      <td>0.00703</td>\n",
       "      <td>0.01670</td>\n",
       "      <td>0.02490</td>\n",
       "      <td>2.690</td>\n",
       "      <td>3.558</td>\n",
       "      <td>0</td>\n",
       "    </tr>\n",
       "    <tr>\n",
       "      <td>...</td>\n",
       "      <td>...</td>\n",
       "      <td>...</td>\n",
       "      <td>...</td>\n",
       "      <td>...</td>\n",
       "      <td>...</td>\n",
       "      <td>...</td>\n",
       "      <td>...</td>\n",
       "      <td>...</td>\n",
       "      <td>...</td>\n",
       "      <td>...</td>\n",
       "      <td>...</td>\n",
       "    </tr>\n",
       "    <tr>\n",
       "      <td>79</td>\n",
       "      <td>3.577</td>\n",
       "      <td>3.559</td>\n",
       "      <td>2.939</td>\n",
       "      <td>3.292</td>\n",
       "      <td>0.00530</td>\n",
       "      <td>0.00903</td>\n",
       "      <td>0.02970</td>\n",
       "      <td>0.04570</td>\n",
       "      <td>6.174</td>\n",
       "      <td>5.610</td>\n",
       "      <td>2</td>\n",
       "    </tr>\n",
       "    <tr>\n",
       "      <td>80</td>\n",
       "      <td>2.771</td>\n",
       "      <td>2.785</td>\n",
       "      <td>3.227</td>\n",
       "      <td>3.068</td>\n",
       "      <td>0.00992</td>\n",
       "      <td>0.00860</td>\n",
       "      <td>0.04070</td>\n",
       "      <td>0.02980</td>\n",
       "      <td>4.336</td>\n",
       "      <td>3.582</td>\n",
       "      <td>2</td>\n",
       "    </tr>\n",
       "    <tr>\n",
       "      <td>81</td>\n",
       "      <td>3.868</td>\n",
       "      <td>3.922</td>\n",
       "      <td>2.728</td>\n",
       "      <td>2.881</td>\n",
       "      <td>0.03830</td>\n",
       "      <td>0.05230</td>\n",
       "      <td>0.03820</td>\n",
       "      <td>0.07670</td>\n",
       "      <td>1.310</td>\n",
       "      <td>1.409</td>\n",
       "      <td>2</td>\n",
       "    </tr>\n",
       "    <tr>\n",
       "      <td>82</td>\n",
       "      <td>3.861</td>\n",
       "      <td>3.772</td>\n",
       "      <td>2.283</td>\n",
       "      <td>2.355</td>\n",
       "      <td>0.00305</td>\n",
       "      <td>0.00367</td>\n",
       "      <td>0.01030</td>\n",
       "      <td>0.01320</td>\n",
       "      <td>3.343</td>\n",
       "      <td>3.436</td>\n",
       "      <td>2</td>\n",
       "    </tr>\n",
       "    <tr>\n",
       "      <td>83</td>\n",
       "      <td>4.171</td>\n",
       "      <td>3.902</td>\n",
       "      <td>3.209</td>\n",
       "      <td>3.387</td>\n",
       "      <td>0.01380</td>\n",
       "      <td>0.01700</td>\n",
       "      <td>0.07020</td>\n",
       "      <td>0.06600</td>\n",
       "      <td>5.015</td>\n",
       "      <td>3.984</td>\n",
       "      <td>2</td>\n",
       "    </tr>\n",
       "  </tbody>\n",
       "</table>\n",
       "<p>84 rows × 11 columns</p>\n",
       "</div>"
      ],
      "text/plain": [
       "     FSX FIXMEAN  DX FIXMEAN  MEANMOB SX  MEANMOB DX   HF MOB   HF FIX  \\\n",
       "0          2.890       2.681       2.203       2.128  0.00242  0.00189   \n",
       "1          3.233       3.277       3.370       3.419  0.01320  0.00669   \n",
       "2          3.552       3.439       2.657       2.867  0.04180  0.04120   \n",
       "3          3.477       3.555       2.558       2.743  0.01700  0.00932   \n",
       "4          3.712       3.588       2.771       2.996  0.00675  0.00703   \n",
       "..           ...         ...         ...         ...      ...      ...   \n",
       "79         3.577       3.559       2.939       3.292  0.00530  0.00903   \n",
       "80         2.771       2.785       3.227       3.068  0.00992  0.00860   \n",
       "81         3.868       3.922       2.728       2.881  0.03830  0.05230   \n",
       "82         3.861       3.772       2.283       2.355  0.00305  0.00367   \n",
       "83         4.171       3.902       3.209       3.387  0.01380  0.01700   \n",
       "\n",
       "     LF MOB   LF FIX  LF/HF FIX  LF/HF MOB  \"TARGET\"  \n",
       "0   0.00526  0.00371      2.171      1.980         0  \n",
       "1   0.02490  0.01590      1.977      2.346         0  \n",
       "2   0.07220  0.07790      3.222      2.210         0  \n",
       "3   0.01660  0.00996      1.047      1.120         0  \n",
       "4   0.01670  0.02490      2.690      3.558         0  \n",
       "..      ...      ...        ...        ...       ...  \n",
       "79  0.02970  0.04570      6.174      5.610         2  \n",
       "80  0.04070  0.02980      4.336      3.582         2  \n",
       "81  0.03820  0.07670      1.310      1.409         2  \n",
       "82  0.01030  0.01320      3.343      3.436         2  \n",
       "83  0.07020  0.06600      5.015      3.984         2  \n",
       "\n",
       "[84 rows x 11 columns]"
      ]
     },
     "execution_count": 85,
     "metadata": {},
     "output_type": "execute_result"
    }
   ],
   "source": [
    "\n",
    "df"
   ]
  },
  {
   "cell_type": "markdown",
   "metadata": {},
   "source": [
    "DATA VISUALIZATION"
   ]
  },
  {
   "cell_type": "code",
   "execution_count": 66,
   "metadata": {},
   "outputs": [
    {
     "data": {
      "text/plain": [
       "<matplotlib.axes._subplots.AxesSubplot at 0x7f982675c1d0>"
      ]
     },
     "execution_count": 66,
     "metadata": {},
     "output_type": "execute_result"
    },
    {
     "data": {
      "image/png": "[encoded data removed]",
      "text/plain": [
       "<Figure size 432x288 with 1 Axes>"
      ]
     },
     "metadata": {
      "needs_background": "light"
     },
     "output_type": "display_data"
    }
   ],
   "source": [
    "#trying to operate some standardization for PCA analysis \n",
    "\n",
    "from sklearn.preprocessing import StandardScaler\n",
    "from sklearn.preprocessing import MinMaxScaler\n",
    "\n",
    "scaler = StandardScaler() #or alternatively use MinMaxScaler\n",
    "\n",
    "df_normalized = scaler.fit_transform(df.iloc[:,0:-1]); \n",
    "\n",
    "%matplotlib inline\n",
    "df_dataframe = pd.DataFrame(df_normalized) \n",
    "df_dataframe.boxplot()"
   ]
  },
  {
   "cell_type": "code",
   "execution_count": 69,
   "metadata": {},
   "outputs": [
    {
     "data": {
      "text/html": [
       "<div>\n",
       "<style scoped>\n",
       "    .dataframe tbody tr th:only-of-type {\n",
       "        vertical-align: middle;\n",
       "    }\n",
       "\n",
       "    .dataframe tbody tr th {\n",
       "        vertical-align: top;\n",
       "    }\n",
       "\n",
       "    .dataframe thead th {\n",
       "        text-align: right;\n",
       "    }\n",
       "</style>\n",
       "<table border=\"1\" class=\"dataframe\">\n",
       "  <thead>\n",
       "    <tr style=\"text-align: right;\">\n",
       "      <th></th>\n",
       "      <th>0</th>\n",
       "      <th>1</th>\n",
       "      <th>2</th>\n",
       "      <th>3</th>\n",
       "      <th>4</th>\n",
       "      <th>5</th>\n",
       "      <th>6</th>\n",
       "      <th>7</th>\n",
       "      <th>8</th>\n",
       "      <th>9</th>\n",
       "    </tr>\n",
       "  </thead>\n",
       "  <tbody>\n",
       "    <tr>\n",
       "      <td>0</td>\n",
       "      <td>-1.617141</td>\n",
       "      <td>-2.437378</td>\n",
       "      <td>-1.881915</td>\n",
       "      <td>-2.509698</td>\n",
       "      <td>-1.079949</td>\n",
       "      <td>-1.125974</td>\n",
       "      <td>-1.360867</td>\n",
       "      <td>-1.522381</td>\n",
       "      <td>-0.651579</td>\n",
       "      <td>-0.838742</td>\n",
       "    </tr>\n",
       "    <tr>\n",
       "      <td>1</td>\n",
       "      <td>-0.704142</td>\n",
       "      <td>-0.763764</td>\n",
       "      <td>1.878693</td>\n",
       "      <td>1.370233</td>\n",
       "      <td>-0.083845</td>\n",
       "      <td>-0.669792</td>\n",
       "      <td>-0.399127</td>\n",
       "      <td>-0.920273</td>\n",
       "      <td>-0.796758</td>\n",
       "      <td>-0.534701</td>\n",
       "    </tr>\n",
       "    <tr>\n",
       "      <td>2</td>\n",
       "      <td>0.144973</td>\n",
       "      <td>-0.308855</td>\n",
       "      <td>-0.418920</td>\n",
       "      <td>-0.288730</td>\n",
       "      <td>2.558880</td>\n",
       "      <td>2.609970</td>\n",
       "      <td>1.917078</td>\n",
       "      <td>2.142130</td>\n",
       "      <td>0.134934</td>\n",
       "      <td>-0.647678</td>\n",
       "    </tr>\n",
       "    <tr>\n",
       "      <td>3</td>\n",
       "      <td>-0.054662</td>\n",
       "      <td>0.016882</td>\n",
       "      <td>-0.737943</td>\n",
       "      <td>-0.661396</td>\n",
       "      <td>0.267287</td>\n",
       "      <td>-0.419842</td>\n",
       "      <td>-0.805565</td>\n",
       "      <td>-1.213671</td>\n",
       "      <td>-1.492721</td>\n",
       "      <td>-1.553154</td>\n",
       "    </tr>\n",
       "    <tr>\n",
       "      <td>4</td>\n",
       "      <td>0.570862</td>\n",
       "      <td>0.109548</td>\n",
       "      <td>-0.051559</td>\n",
       "      <td>0.098962</td>\n",
       "      <td>-0.679844</td>\n",
       "      <td>-0.637479</td>\n",
       "      <td>-0.800668</td>\n",
       "      <td>-0.475731</td>\n",
       "      <td>-0.263187</td>\n",
       "      <td>0.472121</td>\n",
       "    </tr>\n",
       "    <tr>\n",
       "      <td>...</td>\n",
       "      <td>...</td>\n",
       "      <td>...</td>\n",
       "      <td>...</td>\n",
       "      <td>...</td>\n",
       "      <td>...</td>\n",
       "      <td>...</td>\n",
       "      <td>...</td>\n",
       "      <td>...</td>\n",
       "      <td>...</td>\n",
       "      <td>...</td>\n",
       "    </tr>\n",
       "    <tr>\n",
       "      <td>79</td>\n",
       "      <td>0.211518</td>\n",
       "      <td>0.028114</td>\n",
       "      <td>0.489814</td>\n",
       "      <td>0.988552</td>\n",
       "      <td>-0.813828</td>\n",
       "      <td>-0.447403</td>\n",
       "      <td>-0.164079</td>\n",
       "      <td>0.551656</td>\n",
       "      <td>2.344056</td>\n",
       "      <td>2.176741</td>\n",
       "    </tr>\n",
       "    <tr>\n",
       "      <td>80</td>\n",
       "      <td>-1.933895</td>\n",
       "      <td>-2.145338</td>\n",
       "      <td>1.417881</td>\n",
       "      <td>0.315349</td>\n",
       "      <td>-0.386926</td>\n",
       "      <td>-0.488269</td>\n",
       "      <td>0.374573</td>\n",
       "      <td>-0.233702</td>\n",
       "      <td>0.968593</td>\n",
       "      <td>0.492058</td>\n",
       "    </tr>\n",
       "    <tr>\n",
       "      <td>81</td>\n",
       "      <td>0.986103</td>\n",
       "      <td>1.047446</td>\n",
       "      <td>-0.190125</td>\n",
       "      <td>-0.246655</td>\n",
       "      <td>2.235470</td>\n",
       "      <td>3.664892</td>\n",
       "      <td>0.252152</td>\n",
       "      <td>2.082858</td>\n",
       "      <td>-1.295906</td>\n",
       "      <td>-1.313078</td>\n",
       "    </tr>\n",
       "    <tr>\n",
       "      <td>82</td>\n",
       "      <td>0.967471</td>\n",
       "      <td>0.626235</td>\n",
       "      <td>-1.624119</td>\n",
       "      <td>-1.827479</td>\n",
       "      <td>-1.021735</td>\n",
       "      <td>-0.956807</td>\n",
       "      <td>-1.114066</td>\n",
       "      <td>-1.053636</td>\n",
       "      <td>0.225484</td>\n",
       "      <td>0.370774</td>\n",
       "    </tr>\n",
       "    <tr>\n",
       "      <td>83</td>\n",
       "      <td>1.792630</td>\n",
       "      <td>0.991285</td>\n",
       "      <td>1.359877</td>\n",
       "      <td>1.274062</td>\n",
       "      <td>-0.028403</td>\n",
       "      <td>0.310050</td>\n",
       "      <td>1.819141</td>\n",
       "      <td>1.554346</td>\n",
       "      <td>1.476721</td>\n",
       "      <td>0.826004</td>\n",
       "    </tr>\n",
       "  </tbody>\n",
       "</table>\n",
       "<p>84 rows × 10 columns</p>\n",
       "</div>"
      ],
      "text/plain": [
       "           0         1         2         3         4         5         6  \\\n",
       "0  -1.617141 -2.437378 -1.881915 -2.509698 -1.079949 -1.125974 -1.360867   \n",
       "1  -0.704142 -0.763764  1.878693  1.370233 -0.083845 -0.669792 -0.399127   \n",
       "2   0.144973 -0.308855 -0.418920 -0.288730  2.558880  2.609970  1.917078   \n",
       "3  -0.054662  0.016882 -0.737943 -0.661396  0.267287 -0.419842 -0.805565   \n",
       "4   0.570862  0.109548 -0.051559  0.098962 -0.679844 -0.637479 -0.800668   \n",
       "..       ...       ...       ...       ...       ...       ...       ...   \n",
       "79  0.211518  0.028114  0.489814  0.988552 -0.813828 -0.447403 -0.164079   \n",
       "80 -1.933895 -2.145338  1.417881  0.315349 -0.386926 -0.488269  0.374573   \n",
       "81  0.986103  1.047446 -0.190125 -0.246655  2.235470  3.664892  0.252152   \n",
       "82  0.967471  0.626235 -1.624119 -1.827479 -1.021735 -0.956807 -1.114066   \n",
       "83  1.792630  0.991285  1.359877  1.274062 -0.028403  0.310050  1.819141   \n",
       "\n",
       "           7         8         9  \n",
       "0  -1.522381 -0.651579 -0.838742  \n",
       "1  -0.920273 -0.796758 -0.534701  \n",
       "2   2.142130  0.134934 -0.647678  \n",
       "3  -1.213671 -1.492721 -1.553154  \n",
       "4  -0.475731 -0.263187  0.472121  \n",
       "..       ...       ...       ...  \n",
       "79  0.551656  2.344056  2.176741  \n",
       "80 -0.233702  0.968593  0.492058  \n",
       "81  2.082858 -1.295906 -1.313078  \n",
       "82 -1.053636  0.225484  0.370774  \n",
       "83  1.554346  1.476721  0.826004  \n",
       "\n",
       "[84 rows x 10 columns]"
      ]
     },
     "execution_count": 69,
     "metadata": {},
     "output_type": "execute_result"
    }
   ],
   "source": []
  },
  {
   "cell_type": "code",
   "execution_count": 77,
   "metadata": {},
   "outputs": [
    {
     "data": {
      "text/html": [
       "<div>\n",
       "<style scoped>\n",
       "    .dataframe tbody tr th:only-of-type {\n",
       "        vertical-align: middle;\n",
       "    }\n",
       "\n",
       "    .dataframe tbody tr th {\n",
       "        vertical-align: top;\n",
       "    }\n",
       "\n",
       "    .dataframe thead th {\n",
       "        text-align: right;\n",
       "    }\n",
       "</style>\n",
       "<table border=\"1\" class=\"dataframe\">\n",
       "  <thead>\n",
       "    <tr style=\"text-align: right;\">\n",
       "      <th></th>\n",
       "      <th>FSX FIXMEAN</th>\n",
       "      <th>DX FIXMEAN</th>\n",
       "      <th>MEANMOB SX</th>\n",
       "      <th>MEANMOB DX</th>\n",
       "      <th>HF MOB</th>\n",
       "      <th>HF FIX</th>\n",
       "      <th>LF MOB</th>\n",
       "      <th>LF FIX</th>\n",
       "      <th>LF/HF FIX</th>\n",
       "      <th>LF/HF MOB</th>\n",
       "      <th>\"TARGET\"</th>\n",
       "    </tr>\n",
       "  </thead>\n",
       "  <tbody>\n",
       "    <tr>\n",
       "      <td>0</td>\n",
       "      <td>2.890</td>\n",
       "      <td>2.681</td>\n",
       "      <td>2.203</td>\n",
       "      <td>2.128</td>\n",
       "      <td>0.00242</td>\n",
       "      <td>0.00189</td>\n",
       "      <td>0.00526</td>\n",
       "      <td>0.00371</td>\n",
       "      <td>2.171</td>\n",
       "      <td>1.980</td>\n",
       "      <td>0</td>\n",
       "    </tr>\n",
       "    <tr>\n",
       "      <td>1</td>\n",
       "      <td>3.233</td>\n",
       "      <td>3.277</td>\n",
       "      <td>3.370</td>\n",
       "      <td>3.419</td>\n",
       "      <td>0.01320</td>\n",
       "      <td>0.00669</td>\n",
       "      <td>0.02490</td>\n",
       "      <td>0.01590</td>\n",
       "      <td>1.977</td>\n",
       "      <td>2.346</td>\n",
       "      <td>0</td>\n",
       "    </tr>\n",
       "    <tr>\n",
       "      <td>2</td>\n",
       "      <td>3.552</td>\n",
       "      <td>3.439</td>\n",
       "      <td>2.657</td>\n",
       "      <td>2.867</td>\n",
       "      <td>0.04180</td>\n",
       "      <td>0.04120</td>\n",
       "      <td>0.07220</td>\n",
       "      <td>0.07790</td>\n",
       "      <td>3.222</td>\n",
       "      <td>2.210</td>\n",
       "      <td>0</td>\n",
       "    </tr>\n",
       "    <tr>\n",
       "      <td>3</td>\n",
       "      <td>3.477</td>\n",
       "      <td>3.555</td>\n",
       "      <td>2.558</td>\n",
       "      <td>2.743</td>\n",
       "      <td>0.01700</td>\n",
       "      <td>0.00932</td>\n",
       "      <td>0.01660</td>\n",
       "      <td>0.00996</td>\n",
       "      <td>1.047</td>\n",
       "      <td>1.120</td>\n",
       "      <td>0</td>\n",
       "    </tr>\n",
       "    <tr>\n",
       "      <td>4</td>\n",
       "      <td>3.712</td>\n",
       "      <td>3.588</td>\n",
       "      <td>2.771</td>\n",
       "      <td>2.996</td>\n",
       "      <td>0.00675</td>\n",
       "      <td>0.00703</td>\n",
       "      <td>0.01670</td>\n",
       "      <td>0.02490</td>\n",
       "      <td>2.690</td>\n",
       "      <td>3.558</td>\n",
       "      <td>0</td>\n",
       "    </tr>\n",
       "    <tr>\n",
       "      <td>...</td>\n",
       "      <td>...</td>\n",
       "      <td>...</td>\n",
       "      <td>...</td>\n",
       "      <td>...</td>\n",
       "      <td>...</td>\n",
       "      <td>...</td>\n",
       "      <td>...</td>\n",
       "      <td>...</td>\n",
       "      <td>...</td>\n",
       "      <td>...</td>\n",
       "      <td>...</td>\n",
       "    </tr>\n",
       "    <tr>\n",
       "      <td>79</td>\n",
       "      <td>3.577</td>\n",
       "      <td>3.559</td>\n",
       "      <td>2.939</td>\n",
       "      <td>3.292</td>\n",
       "      <td>0.00530</td>\n",
       "      <td>0.00903</td>\n",
       "      <td>0.02970</td>\n",
       "      <td>0.04570</td>\n",
       "      <td>6.174</td>\n",
       "      <td>5.610</td>\n",
       "      <td>2</td>\n",
       "    </tr>\n",
       "    <tr>\n",
       "      <td>80</td>\n",
       "      <td>2.771</td>\n",
       "      <td>2.785</td>\n",
       "      <td>3.227</td>\n",
       "      <td>3.068</td>\n",
       "      <td>0.00992</td>\n",
       "      <td>0.00860</td>\n",
       "      <td>0.04070</td>\n",
       "      <td>0.02980</td>\n",
       "      <td>4.336</td>\n",
       "      <td>3.582</td>\n",
       "      <td>2</td>\n",
       "    </tr>\n",
       "    <tr>\n",
       "      <td>81</td>\n",
       "      <td>3.868</td>\n",
       "      <td>3.922</td>\n",
       "      <td>2.728</td>\n",
       "      <td>2.881</td>\n",
       "      <td>0.03830</td>\n",
       "      <td>0.05230</td>\n",
       "      <td>0.03820</td>\n",
       "      <td>0.07670</td>\n",
       "      <td>1.310</td>\n",
       "      <td>1.409</td>\n",
       "      <td>2</td>\n",
       "    </tr>\n",
       "    <tr>\n",
       "      <td>82</td>\n",
       "      <td>3.861</td>\n",
       "      <td>3.772</td>\n",
       "      <td>2.283</td>\n",
       "      <td>2.355</td>\n",
       "      <td>0.00305</td>\n",
       "      <td>0.00367</td>\n",
       "      <td>0.01030</td>\n",
       "      <td>0.01320</td>\n",
       "      <td>3.343</td>\n",
       "      <td>3.436</td>\n",
       "      <td>2</td>\n",
       "    </tr>\n",
       "    <tr>\n",
       "      <td>83</td>\n",
       "      <td>4.171</td>\n",
       "      <td>3.902</td>\n",
       "      <td>3.209</td>\n",
       "      <td>3.387</td>\n",
       "      <td>0.01380</td>\n",
       "      <td>0.01700</td>\n",
       "      <td>0.07020</td>\n",
       "      <td>0.06600</td>\n",
       "      <td>5.015</td>\n",
       "      <td>3.984</td>\n",
       "      <td>2</td>\n",
       "    </tr>\n",
       "  </tbody>\n",
       "</table>\n",
       "<p>84 rows × 11 columns</p>\n",
       "</div>"
      ],
      "text/plain": [
       "     FSX FIXMEAN  DX FIXMEAN  MEANMOB SX  MEANMOB DX   HF MOB   HF FIX  \\\n",
       "0          2.890       2.681       2.203       2.128  0.00242  0.00189   \n",
       "1          3.233       3.277       3.370       3.419  0.01320  0.00669   \n",
       "2          3.552       3.439       2.657       2.867  0.04180  0.04120   \n",
       "3          3.477       3.555       2.558       2.743  0.01700  0.00932   \n",
       "4          3.712       3.588       2.771       2.996  0.00675  0.00703   \n",
       "..           ...         ...         ...         ...      ...      ...   \n",
       "79         3.577       3.559       2.939       3.292  0.00530  0.00903   \n",
       "80         2.771       2.785       3.227       3.068  0.00992  0.00860   \n",
       "81         3.868       3.922       2.728       2.881  0.03830  0.05230   \n",
       "82         3.861       3.772       2.283       2.355  0.00305  0.00367   \n",
       "83         4.171       3.902       3.209       3.387  0.01380  0.01700   \n",
       "\n",
       "     LF MOB   LF FIX  LF/HF FIX  LF/HF MOB  \"TARGET\"  \n",
       "0   0.00526  0.00371      2.171      1.980         0  \n",
       "1   0.02490  0.01590      1.977      2.346         0  \n",
       "2   0.07220  0.07790      3.222      2.210         0  \n",
       "3   0.01660  0.00996      1.047      1.120         0  \n",
       "4   0.01670  0.02490      2.690      3.558         0  \n",
       "..      ...      ...        ...        ...       ...  \n",
       "79  0.02970  0.04570      6.174      5.610         2  \n",
       "80  0.04070  0.02980      4.336      3.582         2  \n",
       "81  0.03820  0.07670      1.310      1.409         2  \n",
       "82  0.01030  0.01320      3.343      3.436         2  \n",
       "83  0.07020  0.06600      5.015      3.984         2  \n",
       "\n",
       "[84 rows x 11 columns]"
      ]
     },
     "execution_count": 77,
     "metadata": {},
     "output_type": "execute_result"
    }
   ],
   "source": [
    "df"
   ]
  },
  {
   "cell_type": "code",
   "execution_count": 120,
   "metadata": {},
   "outputs": [
    {
     "data": {
      "text/plain": [
       "[<matplotlib.lines.Line2D at 0x7f9828ed9990>]"
      ]
     },
     "execution_count": 120,
     "metadata": {},
     "output_type": "execute_result"
    },
    {
     "data": {
      "image/png": "[encoded data removed]",
      "text/plain": [
       "<Figure size 432x288 with 1 Axes>"
      ]
     },
     "metadata": {
      "needs_background": "light"
     },
     "output_type": "display_data"
    }
   ],
   "source": [
    "import matplotlib.pyplot as plt\n",
    "\n",
    "import numpy as np\n",
    "\n",
    "df_numeric = df.to_numpy()\n",
    "\n",
    "fig,ax = plt.subplots(1,1)\n",
    "plt.plot(df_numeric[df.iloc[:,10]==0,0],df_numeric[df.iloc[:,10]==0,9],'bv')\n",
    "#plt.plot(df_numeric[df.iloc[:,10]==1,0],df_numeric[df.iloc[:,10]==1,9],'rv')\n",
    "plt.plot(df_numeric[df.iloc[:,10]==2,0],df_numeric[df.iloc[:,10]==2,9],'gv')"
   ]
  },
  {
   "cell_type": "code",
   "execution_count": 118,
   "metadata": {},
   "outputs": [
    {
     "data": {
      "image/png": "[encoded data removed]",
      "text/plain": [
       "<Figure size 432x288 with 1 Axes>"
      ]
     },
     "metadata": {
      "needs_background": "light"
     },
     "output_type": "display_data"
    }
   ],
   "source": [
    "from mpl_toolkits.mplot3d import axes3d\n",
    "\n",
    "fig = plt.figure()\n",
    "ax = fig.add_subplot(111, projection='3d')\n",
    "ax.scatter(df['MEANMOB DX'], df['HF MOB'],df['LF/HF FIX'], c=df['\"TARGET\"'], s=10)\n",
    "ax.view_init(0, 0)\n",
    "plt.show()\n",
    "\n"
   ]
  },
  {
   "cell_type": "code",
   "execution_count": 147,
   "metadata": {},
   "outputs": [
    {
     "data": {
      "text/plain": [
       "<bound method DataFrame.info of      FSX FIXMEAN  DX FIXMEAN  MEANMOB SX  MEANMOB DX   HF MOB   HF FIX  \\\n",
       "0          2.890       2.681       2.203       2.128  0.00242  0.00189   \n",
       "1          3.233       3.277       3.370       3.419  0.01320  0.00669   \n",
       "2          3.552       3.439       2.657       2.867  0.04180  0.04120   \n",
       "3          3.477       3.555       2.558       2.743  0.01700  0.00932   \n",
       "4          3.712       3.588       2.771       2.996  0.00675  0.00703   \n",
       "..           ...         ...         ...         ...      ...      ...   \n",
       "79         3.577       3.559       2.939       3.292  0.00530  0.00903   \n",
       "80         2.771       2.785       3.227       3.068  0.00992  0.00860   \n",
       "81         3.868       3.922       2.728       2.881  0.03830  0.05230   \n",
       "82         3.861       3.772       2.283       2.355  0.00305  0.00367   \n",
       "83         4.171       3.902       3.209       3.387  0.01380  0.01700   \n",
       "\n",
       "     LF MOB   LF FIX  LF/HF FIX  LF/HF MOB  \n",
       "0   0.00526  0.00371      2.171      1.980  \n",
       "1   0.02490  0.01590      1.977      2.346  \n",
       "2   0.07220  0.07790      3.222      2.210  \n",
       "3   0.01660  0.00996      1.047      1.120  \n",
       "4   0.01670  0.02490      2.690      3.558  \n",
       "..      ...      ...        ...        ...  \n",
       "79  0.02970  0.04570      6.174      5.610  \n",
       "80  0.04070  0.02980      4.336      3.582  \n",
       "81  0.03820  0.07670      1.310      1.409  \n",
       "82  0.01030  0.01320      3.343      3.436  \n",
       "83  0.07020  0.06600      5.015      3.984  \n",
       "\n",
       "[84 rows x 10 columns]>"
      ]
     },
     "execution_count": 147,
     "metadata": {},
     "output_type": "execute_result"
    }
   ],
   "source": [
    "X = df.iloc[:,0:-1]\n",
    "X.info"
   ]
  },
  {
   "cell_type": "code",
   "execution_count": 149,
   "metadata": {},
   "outputs": [
    {
     "name": "stdout",
     "output_type": "stream",
     "text": [
      "Dataset shape before PCA:  (84, 10)\n",
      "Dataset shape after PCA:  (84, 10)\n"
     ]
    }
   ],
   "source": [
    "#PCA fit\n",
    "from sklearn.decomposition import PCA\n",
    "# we can choose the number of components e.g. 10, the percentage of the total variance or set it to None (that means it automatically chooses the number of components)\n",
    "pca = PCA(n_components=10)\n",
    "pca.fit(X) #The fit learns some quantities from the data, most importantly the \"components\"\n",
    "#let's use the pca to transform the dataset\n",
    "x_pca = pca.transform(X)\n",
    "print(\"Dataset shape before PCA: \", X.shape)\n",
    "print(\"Dataset shape after PCA: \", x_pca.shape)"
   ]
  },
  {
   "cell_type": "code",
   "execution_count": 150,
   "metadata": {},
   "outputs": [
    {
     "data": {
      "text/html": [
       "<div>\n",
       "<style scoped>\n",
       "    .dataframe tbody tr th:only-of-type {\n",
       "        vertical-align: middle;\n",
       "    }\n",
       "\n",
       "    .dataframe tbody tr th {\n",
       "        vertical-align: top;\n",
       "    }\n",
       "\n",
       "    .dataframe thead th {\n",
       "        text-align: right;\n",
       "    }\n",
       "</style>\n",
       "<table border=\"1\" class=\"dataframe\">\n",
       "  <thead>\n",
       "    <tr style=\"text-align: right;\">\n",
       "      <th></th>\n",
       "      <th>0</th>\n",
       "      <th>1</th>\n",
       "      <th>2</th>\n",
       "      <th>3</th>\n",
       "      <th>4</th>\n",
       "      <th>5</th>\n",
       "      <th>6</th>\n",
       "      <th>7</th>\n",
       "      <th>8</th>\n",
       "      <th>9</th>\n",
       "    </tr>\n",
       "  </thead>\n",
       "  <tbody>\n",
       "    <tr>\n",
       "      <td>0</td>\n",
       "      <td>3.039988</td>\n",
       "      <td>0.269155</td>\n",
       "      <td>0.216903</td>\n",
       "      <td>0.185699</td>\n",
       "      <td>0.027988</td>\n",
       "      <td>0.015031</td>\n",
       "      <td>0.000612</td>\n",
       "      <td>0.000072</td>\n",
       "      <td>0.000022</td>\n",
       "      <td>0.000008</td>\n",
       "    </tr>\n",
       "  </tbody>\n",
       "</table>\n",
       "</div>"
      ],
      "text/plain": [
       "          0         1         2         3         4         5         6  \\\n",
       "0  3.039988  0.269155  0.216903  0.185699  0.027988  0.015031  0.000612   \n",
       "\n",
       "          7         8         9  \n",
       "0  0.000072  0.000022  0.000008  "
      ]
     },
     "execution_count": 150,
     "metadata": {},
     "output_type": "execute_result"
    }
   ],
   "source": [
    "pd.DataFrame(pca.explained_variance_).transpose()"
   ]
  },
  {
   "cell_type": "code",
   "execution_count": null,
   "metadata": {},
   "outputs": [],
   "source": [
    "pd.DataFrame(pca.explained_variance_).transpose()\n",
    "#VISUALIZE The percentage of variance explained by each of the selected components.\n",
    "explained_var=pd.DataFrame(pca.explained_variance_ratio_).transpose()\n",
    "explained_var\n",
    "%matplotlib inline\n",
    "import seaborn as sns\n",
    "sns.barplot( data=explained_var)"
   ]
  },
  {
   "cell_type": "code",
   "execution_count": 151,
   "metadata": {},
   "outputs": [
    {
     "data": {
      "text/plain": [
       "<matplotlib.axes._subplots.AxesSubplot at 0x7f982987c090>"
      ]
     },
     "execution_count": 151,
     "metadata": {},
     "output_type": "execute_result"
    },
    {
     "data": {
      "image/png": "[encoded data removed]",
      "text/plain": [
       "<Figure size 432x288 with 1 Axes>"
      ]
     },
     "metadata": {
      "needs_background": "light"
     },
     "output_type": "display_data"
    }
   ],
   "source": [
    "#VISUALIZE The percentage of variance explained by each of the selected components.\n",
    "explained_var=pd.DataFrame(pca.explained_variance_ratio_).transpose()\n",
    "explained_var\n",
    "%matplotlib inline\n",
    "import seaborn as sns\n",
    "sns.barplot( data=explained_var)"
   ]
  },
  {
   "cell_type": "code",
   "execution_count": 155,
   "metadata": {},
   "outputs": [
    {
     "data": {
      "text/html": [
       "<div>\n",
       "<style scoped>\n",
       "    .dataframe tbody tr th:only-of-type {\n",
       "        vertical-align: middle;\n",
       "    }\n",
       "\n",
       "    .dataframe tbody tr th {\n",
       "        vertical-align: top;\n",
       "    }\n",
       "\n",
       "    .dataframe thead th {\n",
       "        text-align: right;\n",
       "    }\n",
       "</style>\n",
       "<table border=\"1\" class=\"dataframe\">\n",
       "  <thead>\n",
       "    <tr style=\"text-align: right;\">\n",
       "      <th></th>\n",
       "      <th>pc1</th>\n",
       "      <th>pc2</th>\n",
       "      <th>pc3</th>\n",
       "      <th>pc4</th>\n",
       "      <th>pc5</th>\n",
       "      <th>pc6</th>\n",
       "      <th>pc7</th>\n",
       "      <th>pc8</th>\n",
       "      <th>pc9</th>\n",
       "      <th>pc10</th>\n",
       "    </tr>\n",
       "  </thead>\n",
       "  <tbody>\n",
       "    <tr>\n",
       "      <td>0</td>\n",
       "      <td>-1.248539</td>\n",
       "      <td>-0.779702</td>\n",
       "      <td>0.975783</td>\n",
       "      <td>0.882538</td>\n",
       "      <td>0.204066</td>\n",
       "      <td>0.002478</td>\n",
       "      <td>-0.029835</td>\n",
       "      <td>-0.007647</td>\n",
       "      <td>-0.004062</td>\n",
       "      <td>-0.002392</td>\n",
       "    </tr>\n",
       "    <tr>\n",
       "      <td>1</td>\n",
       "      <td>-1.199873</td>\n",
       "      <td>-0.167677</td>\n",
       "      <td>0.303059</td>\n",
       "      <td>-0.803527</td>\n",
       "      <td>0.184363</td>\n",
       "      <td>-0.021967</td>\n",
       "      <td>-0.015619</td>\n",
       "      <td>0.004491</td>\n",
       "      <td>0.002576</td>\n",
       "      <td>-0.000220</td>\n",
       "    </tr>\n",
       "    <tr>\n",
       "      <td>2</td>\n",
       "      <td>-0.376133</td>\n",
       "      <td>-0.556159</td>\n",
       "      <td>-0.349229</td>\n",
       "      <td>0.308192</td>\n",
       "      <td>0.064309</td>\n",
       "      <td>-0.107143</td>\n",
       "      <td>0.055746</td>\n",
       "      <td>-0.001255</td>\n",
       "      <td>0.006777</td>\n",
       "      <td>-0.004107</td>\n",
       "    </tr>\n",
       "    <tr>\n",
       "      <td>3</td>\n",
       "      <td>-2.726214</td>\n",
       "      <td>-0.153780</td>\n",
       "      <td>0.161400</td>\n",
       "      <td>0.306533</td>\n",
       "      <td>-0.007303</td>\n",
       "      <td>0.025080</td>\n",
       "      <td>-0.008063</td>\n",
       "      <td>0.004144</td>\n",
       "      <td>-0.001921</td>\n",
       "      <td>-0.002455</td>\n",
       "    </tr>\n",
       "    <tr>\n",
       "      <td>4</td>\n",
       "      <td>0.102283</td>\n",
       "      <td>0.623255</td>\n",
       "      <td>0.268314</td>\n",
       "      <td>-0.111531</td>\n",
       "      <td>0.005349</td>\n",
       "      <td>-0.111406</td>\n",
       "      <td>-0.013951</td>\n",
       "      <td>-0.005318</td>\n",
       "      <td>0.001214</td>\n",
       "      <td>0.000832</td>\n",
       "    </tr>\n",
       "  </tbody>\n",
       "</table>\n",
       "</div>"
      ],
      "text/plain": [
       "        pc1       pc2       pc3       pc4       pc5       pc6       pc7  \\\n",
       "0 -1.248539 -0.779702  0.975783  0.882538  0.204066  0.002478 -0.029835   \n",
       "1 -1.199873 -0.167677  0.303059 -0.803527  0.184363 -0.021967 -0.015619   \n",
       "2 -0.376133 -0.556159 -0.349229  0.308192  0.064309 -0.107143  0.055746   \n",
       "3 -2.726214 -0.153780  0.161400  0.306533 -0.007303  0.025080 -0.008063   \n",
       "4  0.102283  0.623255  0.268314 -0.111531  0.005349 -0.111406 -0.013951   \n",
       "\n",
       "        pc8       pc9      pc10  \n",
       "0 -0.007647 -0.004062 -0.002392  \n",
       "1  0.004491  0.002576 -0.000220  \n",
       "2 -0.001255  0.006777 -0.004107  \n",
       "3  0.004144 -0.001921 -0.002455  \n",
       "4 -0.005318  0.001214  0.000832  "
      ]
     },
     "execution_count": 155,
     "metadata": {},
     "output_type": "execute_result"
    }
   ],
   "source": [
    "# Let see the coordinates of the data in the PCA \n",
    "principalDf = pd.DataFrame(data = x_pca\n",
    "             , columns = ['pc1', 'pc2','pc3','pc4','pc5', 'pc6','pc7','pc8','pc9','pc10'])\n",
    "principalDf.head()"
   ]
  },
  {
   "cell_type": "code",
   "execution_count": 156,
   "metadata": {},
   "outputs": [
    {
     "ename": "AttributeError",
     "evalue": "'PCA' object has no attribute 'components_'",
     "output_type": "error",
     "traceback": [
      "\u001b[0;31m---------------------------------------------------------------------------\u001b[0m",
      "\u001b[0;31mAttributeError\u001b[0m                            Traceback (most recent call last)",
      "\u001b[0;32m<ipython-input-156-727a8016014f>\u001b[0m in \u001b[0;36m<module>\u001b[0;34m\u001b[0m\n\u001b[0;32m----> 1\u001b[0;31m \u001b[0mnp\u001b[0m\u001b[0;34m.\u001b[0m\u001b[0mshape\u001b[0m\u001b[0;34m(\u001b[0m\u001b[0mpca\u001b[0m\u001b[0;34m.\u001b[0m\u001b[0mcomponents_\u001b[0m\u001b[0;34m.\u001b[0m\u001b[0mT\u001b[0m\u001b[0;34m)\u001b[0m\u001b[0;34m\u001b[0m\u001b[0;34m\u001b[0m\u001b[0m\n\u001b[0m",
      "\u001b[0;31mAttributeError\u001b[0m: 'PCA' object has no attribute 'components_'"
     ]
    }
   ],
   "source": [
    "np.shape(pca.components_.T)"
   ]
  },
  {
   "cell_type": "code",
   "execution_count": 161,
   "metadata": {},
   "outputs": [
    {
     "data": {
      "text/html": [
       "<div>\n",
       "<style scoped>\n",
       "    .dataframe tbody tr th:only-of-type {\n",
       "        vertical-align: middle;\n",
       "    }\n",
       "\n",
       "    .dataframe tbody tr th {\n",
       "        vertical-align: top;\n",
       "    }\n",
       "\n",
       "    .dataframe thead th {\n",
       "        text-align: right;\n",
       "    }\n",
       "</style>\n",
       "<table border=\"1\" class=\"dataframe\">\n",
       "  <thead>\n",
       "    <tr style=\"text-align: right;\">\n",
       "      <th></th>\n",
       "      <th>pc1</th>\n",
       "      <th>pc2</th>\n",
       "      <th>pc3</th>\n",
       "      <th>pc4</th>\n",
       "      <th>pc5</th>\n",
       "      <th>pc6</th>\n",
       "      <th>pc7</th>\n",
       "      <th>pc8</th>\n",
       "      <th>pc9</th>\n",
       "      <th>pc10</th>\n",
       "    </tr>\n",
       "  </thead>\n",
       "  <tbody>\n",
       "    <tr>\n",
       "      <td>0</td>\n",
       "      <td>-0.036267</td>\n",
       "      <td>0.498781</td>\n",
       "      <td>-0.512866</td>\n",
       "      <td>0.184883</td>\n",
       "      <td>0.361392</td>\n",
       "      <td>-0.566533</td>\n",
       "      <td>-0.032931</td>\n",
       "      <td>-0.005125</td>\n",
       "      <td>0.002174</td>\n",
       "      <td>-0.002887</td>\n",
       "    </tr>\n",
       "    <tr>\n",
       "      <td>1</td>\n",
       "      <td>-0.050235</td>\n",
       "      <td>0.416196</td>\n",
       "      <td>-0.542281</td>\n",
       "      <td>0.009013</td>\n",
       "      <td>-0.420563</td>\n",
       "      <td>0.593921</td>\n",
       "      <td>0.020782</td>\n",
       "      <td>0.005914</td>\n",
       "      <td>-0.004207</td>\n",
       "      <td>0.002917</td>\n",
       "    </tr>\n",
       "    <tr>\n",
       "      <td>2</td>\n",
       "      <td>0.004095</td>\n",
       "      <td>-0.017258</td>\n",
       "      <td>-0.162054</td>\n",
       "      <td>-0.646609</td>\n",
       "      <td>0.660780</td>\n",
       "      <td>0.343215</td>\n",
       "      <td>-0.021495</td>\n",
       "      <td>-0.017951</td>\n",
       "      <td>0.009456</td>\n",
       "      <td>-0.004467</td>\n",
       "    </tr>\n",
       "    <tr>\n",
       "      <td>3</td>\n",
       "      <td>-0.008201</td>\n",
       "      <td>-0.073434</td>\n",
       "      <td>-0.177067</td>\n",
       "      <td>-0.709274</td>\n",
       "      <td>-0.501839</td>\n",
       "      <td>-0.455877</td>\n",
       "      <td>0.004216</td>\n",
       "      <td>0.020313</td>\n",
       "      <td>-0.000714</td>\n",
       "      <td>0.004397</td>\n",
       "    </tr>\n",
       "    <tr>\n",
       "      <td>4</td>\n",
       "      <td>-0.001252</td>\n",
       "      <td>0.001340</td>\n",
       "      <td>-0.003740</td>\n",
       "      <td>0.004115</td>\n",
       "      <td>0.017312</td>\n",
       "      <td>-0.002439</td>\n",
       "      <td>0.331849</td>\n",
       "      <td>0.529705</td>\n",
       "      <td>0.669860</td>\n",
       "      <td>-0.400295</td>\n",
       "    </tr>\n",
       "    <tr>\n",
       "      <td>5</td>\n",
       "      <td>-0.000863</td>\n",
       "      <td>-0.005019</td>\n",
       "      <td>-0.009270</td>\n",
       "      <td>0.002735</td>\n",
       "      <td>0.005862</td>\n",
       "      <td>-0.009525</td>\n",
       "      <td>0.325204</td>\n",
       "      <td>-0.283667</td>\n",
       "      <td>0.508240</td>\n",
       "      <td>0.745133</td>\n",
       "    </tr>\n",
       "    <tr>\n",
       "      <td>6</td>\n",
       "      <td>0.004153</td>\n",
       "      <td>-0.004543</td>\n",
       "      <td>-0.013137</td>\n",
       "      <td>-0.001233</td>\n",
       "      <td>0.043741</td>\n",
       "      <td>-0.009661</td>\n",
       "      <td>0.636409</td>\n",
       "      <td>0.481995</td>\n",
       "      <td>-0.535917</td>\n",
       "      <td>0.270626</td>\n",
       "    </tr>\n",
       "    <tr>\n",
       "      <td>7</td>\n",
       "      <td>0.005593</td>\n",
       "      <td>-0.005423</td>\n",
       "      <td>-0.013924</td>\n",
       "      <td>-0.003544</td>\n",
       "      <td>0.003573</td>\n",
       "      <td>-0.019263</td>\n",
       "      <td>0.613731</td>\n",
       "      <td>-0.637037</td>\n",
       "      <td>-0.075132</td>\n",
       "      <td>-0.459590</td>\n",
       "    </tr>\n",
       "    <tr>\n",
       "      <td>8</td>\n",
       "      <td>0.747969</td>\n",
       "      <td>-0.471241</td>\n",
       "      <td>-0.444461</td>\n",
       "      <td>0.142694</td>\n",
       "      <td>0.014893</td>\n",
       "      <td>-0.003337</td>\n",
       "      <td>-0.017495</td>\n",
       "      <td>0.003689</td>\n",
       "      <td>0.003300</td>\n",
       "      <td>-0.001731</td>\n",
       "    </tr>\n",
       "    <tr>\n",
       "      <td>9</td>\n",
       "      <td>0.660733</td>\n",
       "      <td>0.591745</td>\n",
       "      <td>0.432751</td>\n",
       "      <td>-0.155447</td>\n",
       "      <td>-0.039587</td>\n",
       "      <td>0.010257</td>\n",
       "      <td>0.011622</td>\n",
       "      <td>-0.000648</td>\n",
       "      <td>0.001933</td>\n",
       "      <td>0.004510</td>\n",
       "    </tr>\n",
       "  </tbody>\n",
       "</table>\n",
       "</div>"
      ],
      "text/plain": [
       "        pc1       pc2       pc3       pc4       pc5       pc6       pc7  \\\n",
       "0 -0.036267  0.498781 -0.512866  0.184883  0.361392 -0.566533 -0.032931   \n",
       "1 -0.050235  0.416196 -0.542281  0.009013 -0.420563  0.593921  0.020782   \n",
       "2  0.004095 -0.017258 -0.162054 -0.646609  0.660780  0.343215 -0.021495   \n",
       "3 -0.008201 -0.073434 -0.177067 -0.709274 -0.501839 -0.455877  0.004216   \n",
       "4 -0.001252  0.001340 -0.003740  0.004115  0.017312 -0.002439  0.331849   \n",
       "5 -0.000863 -0.005019 -0.009270  0.002735  0.005862 -0.009525  0.325204   \n",
       "6  0.004153 -0.004543 -0.013137 -0.001233  0.043741 -0.009661  0.636409   \n",
       "7  0.005593 -0.005423 -0.013924 -0.003544  0.003573 -0.019263  0.613731   \n",
       "8  0.747969 -0.471241 -0.444461  0.142694  0.014893 -0.003337 -0.017495   \n",
       "9  0.660733  0.591745  0.432751 -0.155447 -0.039587  0.010257  0.011622   \n",
       "\n",
       "        pc8       pc9      pc10  \n",
       "0 -0.005125  0.002174 -0.002887  \n",
       "1  0.005914 -0.004207  0.002917  \n",
       "2 -0.017951  0.009456 -0.004467  \n",
       "3  0.020313 -0.000714  0.004397  \n",
       "4  0.529705  0.669860 -0.400295  \n",
       "5 -0.283667  0.508240  0.745133  \n",
       "6  0.481995 -0.535917  0.270626  \n",
       "7 -0.637037 -0.075132 -0.459590  \n",
       "8  0.003689  0.003300 -0.001731  \n",
       "9 -0.000648  0.001933  0.004510  "
      ]
     },
     "execution_count": 161,
     "metadata": {},
     "output_type": "execute_result"
    }
   ],
   "source": [
    "import numpy as np\n",
    "import matplotlib.pyplot as plt\n",
    "import pandas as pd\n",
    "\n",
    "from sklearn import decomposition\n",
    "from sklearn import datasets\n",
    "from sklearn.preprocessing import scale\n",
    "\n",
    "\n",
    "pca = decomposition.PCA(n_components=10)\n",
    "PCA = pca.fit_transform(X)\n",
    "\n",
    "loadings = pd.DataFrame(pca.components_.T, columns=['pc1', 'pc2','pc3','pc4','pc5', 'pc6','pc7','pc8','pc9','pc10'])\n",
    "\n",
    "loadings\n",
    "\n",
    "### COEFFICIENT THAT EXPLAINS THE LINEAR COMBINATION COMPUTED FOR THE FIRST 2 PC FORM THE STARTING FEATURES\n"
   ]
  },
  {
   "cell_type": "code",
   "execution_count": 159,
   "metadata": {},
   "outputs": [
    {
     "data": {
      "text/plain": [
       "<matplotlib.axes._subplots.AxesSubplot at 0x7f982988c990>"
      ]
     },
     "execution_count": 159,
     "metadata": {},
     "output_type": "execute_result"
    },
    {
     "data": {
      "image/png": "[encoded data removed]",
      "text/plain": [
       "<Figure size 432x288 with 1 Axes>"
      ]
     },
     "metadata": {
      "needs_background": "light"
     },
     "output_type": "display_data"
    }
   ],
   "source": [
    "#VISUALIZE The percentage of variance explained by each of the selected components.\n",
    "explained_var=pd.DataFrame(pca.explained_variance_ratio_).transpose()\n",
    "explained_var\n",
    "%matplotlib inline\n",
    "import seaborn as sns\n",
    "sns.barplot( data=explained_var)"
   ]
  },
  {
   "cell_type": "code",
   "execution_count": 162,
   "metadata": {},
   "outputs": [
    {
     "data": {
      "text/html": [
       "<div>\n",
       "<style scoped>\n",
       "    .dataframe tbody tr th:only-of-type {\n",
       "        vertical-align: middle;\n",
       "    }\n",
       "\n",
       "    .dataframe tbody tr th {\n",
       "        vertical-align: top;\n",
       "    }\n",
       "\n",
       "    .dataframe thead th {\n",
       "        text-align: right;\n",
       "    }\n",
       "</style>\n",
       "<table border=\"1\" class=\"dataframe\">\n",
       "  <thead>\n",
       "    <tr style=\"text-align: right;\">\n",
       "      <th></th>\n",
       "      <th>pc1</th>\n",
       "      <th>pc2</th>\n",
       "      <th>pc3</th>\n",
       "      <th>pc4</th>\n",
       "      <th>pc5</th>\n",
       "      <th>pc6</th>\n",
       "      <th>pc7</th>\n",
       "      <th>pc8</th>\n",
       "      <th>pc9</th>\n",
       "      <th>pc10</th>\n",
       "    </tr>\n",
       "  </thead>\n",
       "  <tbody>\n",
       "    <tr>\n",
       "      <td>0</td>\n",
       "      <td>-1.248539</td>\n",
       "      <td>-0.779702</td>\n",
       "      <td>0.975783</td>\n",
       "      <td>0.882538</td>\n",
       "      <td>0.204066</td>\n",
       "      <td>0.002478</td>\n",
       "      <td>-0.029835</td>\n",
       "      <td>-0.007647</td>\n",
       "      <td>-0.004062</td>\n",
       "      <td>-0.002392</td>\n",
       "    </tr>\n",
       "    <tr>\n",
       "      <td>1</td>\n",
       "      <td>-1.199873</td>\n",
       "      <td>-0.167677</td>\n",
       "      <td>0.303059</td>\n",
       "      <td>-0.803527</td>\n",
       "      <td>0.184363</td>\n",
       "      <td>-0.021967</td>\n",
       "      <td>-0.015619</td>\n",
       "      <td>0.004491</td>\n",
       "      <td>0.002576</td>\n",
       "      <td>-0.000220</td>\n",
       "    </tr>\n",
       "    <tr>\n",
       "      <td>2</td>\n",
       "      <td>-0.376133</td>\n",
       "      <td>-0.556159</td>\n",
       "      <td>-0.349229</td>\n",
       "      <td>0.308192</td>\n",
       "      <td>0.064309</td>\n",
       "      <td>-0.107143</td>\n",
       "      <td>0.055746</td>\n",
       "      <td>-0.001255</td>\n",
       "      <td>0.006777</td>\n",
       "      <td>-0.004107</td>\n",
       "    </tr>\n",
       "    <tr>\n",
       "      <td>3</td>\n",
       "      <td>-2.726214</td>\n",
       "      <td>-0.153780</td>\n",
       "      <td>0.161400</td>\n",
       "      <td>0.306533</td>\n",
       "      <td>-0.007303</td>\n",
       "      <td>0.025080</td>\n",
       "      <td>-0.008063</td>\n",
       "      <td>0.004144</td>\n",
       "      <td>-0.001921</td>\n",
       "      <td>-0.002455</td>\n",
       "    </tr>\n",
       "    <tr>\n",
       "      <td>4</td>\n",
       "      <td>0.102283</td>\n",
       "      <td>0.623255</td>\n",
       "      <td>0.268314</td>\n",
       "      <td>-0.111531</td>\n",
       "      <td>0.005349</td>\n",
       "      <td>-0.111406</td>\n",
       "      <td>-0.013951</td>\n",
       "      <td>-0.005318</td>\n",
       "      <td>0.001214</td>\n",
       "      <td>0.000832</td>\n",
       "    </tr>\n",
       "    <tr>\n",
       "      <td>...</td>\n",
       "      <td>...</td>\n",
       "      <td>...</td>\n",
       "      <td>...</td>\n",
       "      <td>...</td>\n",
       "      <td>...</td>\n",
       "      <td>...</td>\n",
       "      <td>...</td>\n",
       "      <td>...</td>\n",
       "      <td>...</td>\n",
       "      <td>...</td>\n",
       "    </tr>\n",
       "    <tr>\n",
       "      <td>79</td>\n",
       "      <td>4.068816</td>\n",
       "      <td>0.091488</td>\n",
       "      <td>-0.387331</td>\n",
       "      <td>-0.277249</td>\n",
       "      <td>-0.097493</td>\n",
       "      <td>-0.120546</td>\n",
       "      <td>-0.028367</td>\n",
       "      <td>0.001402</td>\n",
       "      <td>0.009401</td>\n",
       "      <td>0.000939</td>\n",
       "    </tr>\n",
       "    <tr>\n",
       "      <td>80</td>\n",
       "      <td>1.425163</td>\n",
       "      <td>-0.955060</td>\n",
       "      <td>0.378120</td>\n",
       "      <td>-0.407551</td>\n",
       "      <td>0.292869</td>\n",
       "      <td>0.062872</td>\n",
       "      <td>-0.017823</td>\n",
       "      <td>0.003769</td>\n",
       "      <td>0.001977</td>\n",
       "      <td>0.000888</td>\n",
       "    </tr>\n",
       "    <tr>\n",
       "      <td>81</td>\n",
       "      <td>-2.371199</td>\n",
       "      <td>0.227350</td>\n",
       "      <td>-0.283651</td>\n",
       "      <td>0.166873</td>\n",
       "      <td>0.017014</td>\n",
       "      <td>0.017101</td>\n",
       "      <td>0.058126</td>\n",
       "      <td>-0.028169</td>\n",
       "      <td>0.019842</td>\n",
       "      <td>-0.003146</td>\n",
       "    </tr>\n",
       "    <tr>\n",
       "      <td>82</td>\n",
       "      <td>0.498624</td>\n",
       "      <td>0.449838</td>\n",
       "      <td>-0.058037</td>\n",
       "      <td>0.800033</td>\n",
       "      <td>-0.004820</td>\n",
       "      <td>0.035089</td>\n",
       "      <td>-0.033663</td>\n",
       "      <td>-0.003404</td>\n",
       "      <td>-0.001351</td>\n",
       "      <td>0.001241</td>\n",
       "    </tr>\n",
       "    <tr>\n",
       "      <td>83</td>\n",
       "      <td>2.089385</td>\n",
       "      <td>0.102551</td>\n",
       "      <td>-1.127995</td>\n",
       "      <td>-0.318993</td>\n",
       "      <td>0.152803</td>\n",
       "      <td>-0.217682</td>\n",
       "      <td>-0.001178</td>\n",
       "      <td>0.003078</td>\n",
       "      <td>-0.008719</td>\n",
       "      <td>-0.001723</td>\n",
       "    </tr>\n",
       "  </tbody>\n",
       "</table>\n",
       "<p>84 rows × 10 columns</p>\n",
       "</div>"
      ],
      "text/plain": [
       "         pc1       pc2       pc3       pc4       pc5       pc6       pc7  \\\n",
       "0  -1.248539 -0.779702  0.975783  0.882538  0.204066  0.002478 -0.029835   \n",
       "1  -1.199873 -0.167677  0.303059 -0.803527  0.184363 -0.021967 -0.015619   \n",
       "2  -0.376133 -0.556159 -0.349229  0.308192  0.064309 -0.107143  0.055746   \n",
       "3  -2.726214 -0.153780  0.161400  0.306533 -0.007303  0.025080 -0.008063   \n",
       "4   0.102283  0.623255  0.268314 -0.111531  0.005349 -0.111406 -0.013951   \n",
       "..       ...       ...       ...       ...       ...       ...       ...   \n",
       "79  4.068816  0.091488 -0.387331 -0.277249 -0.097493 -0.120546 -0.028367   \n",
       "80  1.425163 -0.955060  0.378120 -0.407551  0.292869  0.062872 -0.017823   \n",
       "81 -2.371199  0.227350 -0.283651  0.166873  0.017014  0.017101  0.058126   \n",
       "82  0.498624  0.449838 -0.058037  0.800033 -0.004820  0.035089 -0.033663   \n",
       "83  2.089385  0.102551 -1.127995 -0.318993  0.152803 -0.217682 -0.001178   \n",
       "\n",
       "         pc8       pc9      pc10  \n",
       "0  -0.007647 -0.004062 -0.002392  \n",
       "1   0.004491  0.002576 -0.000220  \n",
       "2  -0.001255  0.006777 -0.004107  \n",
       "3   0.004144 -0.001921 -0.002455  \n",
       "4  -0.005318  0.001214  0.000832  \n",
       "..       ...       ...       ...  \n",
       "79  0.001402  0.009401  0.000939  \n",
       "80  0.003769  0.001977  0.000888  \n",
       "81 -0.028169  0.019842 -0.003146  \n",
       "82 -0.003404 -0.001351  0.001241  \n",
       "83  0.003078 -0.008719 -0.001723  \n",
       "\n",
       "[84 rows x 10 columns]"
      ]
     },
     "execution_count": 162,
     "metadata": {},
     "output_type": "execute_result"
    }
   ],
   "source": [
    "principalDf"
   ]
  },
  {
   "cell_type": "code",
   "execution_count": 165,
   "metadata": {},
   "outputs": [],
   "source": [
    "principalDf['Target']=df['\"TARGET\"']"
   ]
  },
  {
   "cell_type": "code",
   "execution_count": 167,
   "metadata": {},
   "outputs": [
    {
     "data": {
      "image/png": "[encoded data removed]",
      "text/plain": [
       "<Figure size 432x288 with 1 Axes>"
      ]
     },
     "metadata": {
      "needs_background": "light"
     },
     "output_type": "display_data"
    }
   ],
   "source": [
    "import numpy as np\n",
    "import matplotlib.pyplot as plt\n",
    "\n",
    "x = principalDf.iloc[:,0]\n",
    "y = principalDf.iloc[:,1]\n",
    "\n",
    "\n",
    "\n",
    "plt.scatter(x, y,alpha=0.8,c=df['\"TARGET\"'] )\n",
    "plt.show()"
   ]
  },
  {
   "cell_type": "code",
   "execution_count": 168,
   "metadata": {},
   "outputs": [
    {
     "data": {
      "text/html": [
       "<div>\n",
       "<style scoped>\n",
       "    .dataframe tbody tr th:only-of-type {\n",
       "        vertical-align: middle;\n",
       "    }\n",
       "\n",
       "    .dataframe tbody tr th {\n",
       "        vertical-align: top;\n",
       "    }\n",
       "\n",
       "    .dataframe thead th {\n",
       "        text-align: right;\n",
       "    }\n",
       "</style>\n",
       "<table border=\"1\" class=\"dataframe\">\n",
       "  <thead>\n",
       "    <tr style=\"text-align: right;\">\n",
       "      <th></th>\n",
       "      <th>pc1</th>\n",
       "      <th>pc2</th>\n",
       "      <th>pc3</th>\n",
       "      <th>pc4</th>\n",
       "      <th>pc5</th>\n",
       "      <th>pc6</th>\n",
       "      <th>pc7</th>\n",
       "      <th>pc8</th>\n",
       "      <th>pc9</th>\n",
       "      <th>pc10</th>\n",
       "      <th>Target</th>\n",
       "    </tr>\n",
       "  </thead>\n",
       "  <tbody>\n",
       "    <tr>\n",
       "      <td>0</td>\n",
       "      <td>-1.248539</td>\n",
       "      <td>-0.779702</td>\n",
       "      <td>0.975783</td>\n",
       "      <td>0.882538</td>\n",
       "      <td>0.204066</td>\n",
       "      <td>0.002478</td>\n",
       "      <td>-0.029835</td>\n",
       "      <td>-0.007647</td>\n",
       "      <td>-0.004062</td>\n",
       "      <td>-0.002392</td>\n",
       "      <td>0</td>\n",
       "    </tr>\n",
       "    <tr>\n",
       "      <td>1</td>\n",
       "      <td>-1.199873</td>\n",
       "      <td>-0.167677</td>\n",
       "      <td>0.303059</td>\n",
       "      <td>-0.803527</td>\n",
       "      <td>0.184363</td>\n",
       "      <td>-0.021967</td>\n",
       "      <td>-0.015619</td>\n",
       "      <td>0.004491</td>\n",
       "      <td>0.002576</td>\n",
       "      <td>-0.000220</td>\n",
       "      <td>0</td>\n",
       "    </tr>\n",
       "    <tr>\n",
       "      <td>2</td>\n",
       "      <td>-0.376133</td>\n",
       "      <td>-0.556159</td>\n",
       "      <td>-0.349229</td>\n",
       "      <td>0.308192</td>\n",
       "      <td>0.064309</td>\n",
       "      <td>-0.107143</td>\n",
       "      <td>0.055746</td>\n",
       "      <td>-0.001255</td>\n",
       "      <td>0.006777</td>\n",
       "      <td>-0.004107</td>\n",
       "      <td>0</td>\n",
       "    </tr>\n",
       "    <tr>\n",
       "      <td>3</td>\n",
       "      <td>-2.726214</td>\n",
       "      <td>-0.153780</td>\n",
       "      <td>0.161400</td>\n",
       "      <td>0.306533</td>\n",
       "      <td>-0.007303</td>\n",
       "      <td>0.025080</td>\n",
       "      <td>-0.008063</td>\n",
       "      <td>0.004144</td>\n",
       "      <td>-0.001921</td>\n",
       "      <td>-0.002455</td>\n",
       "      <td>0</td>\n",
       "    </tr>\n",
       "    <tr>\n",
       "      <td>4</td>\n",
       "      <td>0.102283</td>\n",
       "      <td>0.623255</td>\n",
       "      <td>0.268314</td>\n",
       "      <td>-0.111531</td>\n",
       "      <td>0.005349</td>\n",
       "      <td>-0.111406</td>\n",
       "      <td>-0.013951</td>\n",
       "      <td>-0.005318</td>\n",
       "      <td>0.001214</td>\n",
       "      <td>0.000832</td>\n",
       "      <td>0</td>\n",
       "    </tr>\n",
       "    <tr>\n",
       "      <td>...</td>\n",
       "      <td>...</td>\n",
       "      <td>...</td>\n",
       "      <td>...</td>\n",
       "      <td>...</td>\n",
       "      <td>...</td>\n",
       "      <td>...</td>\n",
       "      <td>...</td>\n",
       "      <td>...</td>\n",
       "      <td>...</td>\n",
       "      <td>...</td>\n",
       "      <td>...</td>\n",
       "    </tr>\n",
       "    <tr>\n",
       "      <td>79</td>\n",
       "      <td>4.068816</td>\n",
       "      <td>0.091488</td>\n",
       "      <td>-0.387331</td>\n",
       "      <td>-0.277249</td>\n",
       "      <td>-0.097493</td>\n",
       "      <td>-0.120546</td>\n",
       "      <td>-0.028367</td>\n",
       "      <td>0.001402</td>\n",
       "      <td>0.009401</td>\n",
       "      <td>0.000939</td>\n",
       "      <td>2</td>\n",
       "    </tr>\n",
       "    <tr>\n",
       "      <td>80</td>\n",
       "      <td>1.425163</td>\n",
       "      <td>-0.955060</td>\n",
       "      <td>0.378120</td>\n",
       "      <td>-0.407551</td>\n",
       "      <td>0.292869</td>\n",
       "      <td>0.062872</td>\n",
       "      <td>-0.017823</td>\n",
       "      <td>0.003769</td>\n",
       "      <td>0.001977</td>\n",
       "      <td>0.000888</td>\n",
       "      <td>2</td>\n",
       "    </tr>\n",
       "    <tr>\n",
       "      <td>81</td>\n",
       "      <td>-2.371199</td>\n",
       "      <td>0.227350</td>\n",
       "      <td>-0.283651</td>\n",
       "      <td>0.166873</td>\n",
       "      <td>0.017014</td>\n",
       "      <td>0.017101</td>\n",
       "      <td>0.058126</td>\n",
       "      <td>-0.028169</td>\n",
       "      <td>0.019842</td>\n",
       "      <td>-0.003146</td>\n",
       "      <td>2</td>\n",
       "    </tr>\n",
       "    <tr>\n",
       "      <td>82</td>\n",
       "      <td>0.498624</td>\n",
       "      <td>0.449838</td>\n",
       "      <td>-0.058037</td>\n",
       "      <td>0.800033</td>\n",
       "      <td>-0.004820</td>\n",
       "      <td>0.035089</td>\n",
       "      <td>-0.033663</td>\n",
       "      <td>-0.003404</td>\n",
       "      <td>-0.001351</td>\n",
       "      <td>0.001241</td>\n",
       "      <td>2</td>\n",
       "    </tr>\n",
       "    <tr>\n",
       "      <td>83</td>\n",
       "      <td>2.089385</td>\n",
       "      <td>0.102551</td>\n",
       "      <td>-1.127995</td>\n",
       "      <td>-0.318993</td>\n",
       "      <td>0.152803</td>\n",
       "      <td>-0.217682</td>\n",
       "      <td>-0.001178</td>\n",
       "      <td>0.003078</td>\n",
       "      <td>-0.008719</td>\n",
       "      <td>-0.001723</td>\n",
       "      <td>2</td>\n",
       "    </tr>\n",
       "  </tbody>\n",
       "</table>\n",
       "<p>84 rows × 11 columns</p>\n",
       "</div>"
      ],
      "text/plain": [
       "         pc1       pc2       pc3       pc4       pc5       pc6       pc7  \\\n",
       "0  -1.248539 -0.779702  0.975783  0.882538  0.204066  0.002478 -0.029835   \n",
       "1  -1.199873 -0.167677  0.303059 -0.803527  0.184363 -0.021967 -0.015619   \n",
       "2  -0.376133 -0.556159 -0.349229  0.308192  0.064309 -0.107143  0.055746   \n",
       "3  -2.726214 -0.153780  0.161400  0.306533 -0.007303  0.025080 -0.008063   \n",
       "4   0.102283  0.623255  0.268314 -0.111531  0.005349 -0.111406 -0.013951   \n",
       "..       ...       ...       ...       ...       ...       ...       ...   \n",
       "79  4.068816  0.091488 -0.387331 -0.277249 -0.097493 -0.120546 -0.028367   \n",
       "80  1.425163 -0.955060  0.378120 -0.407551  0.292869  0.062872 -0.017823   \n",
       "81 -2.371199  0.227350 -0.283651  0.166873  0.017014  0.017101  0.058126   \n",
       "82  0.498624  0.449838 -0.058037  0.800033 -0.004820  0.035089 -0.033663   \n",
       "83  2.089385  0.102551 -1.127995 -0.318993  0.152803 -0.217682 -0.001178   \n",
       "\n",
       "         pc8       pc9      pc10  Target  \n",
       "0  -0.007647 -0.004062 -0.002392       0  \n",
       "1   0.004491  0.002576 -0.000220       0  \n",
       "2  -0.001255  0.006777 -0.004107       0  \n",
       "3   0.004144 -0.001921 -0.002455       0  \n",
       "4  -0.005318  0.001214  0.000832       0  \n",
       "..       ...       ...       ...     ...  \n",
       "79  0.001402  0.009401  0.000939       2  \n",
       "80  0.003769  0.001977  0.000888       2  \n",
       "81 -0.028169  0.019842 -0.003146       2  \n",
       "82 -0.003404 -0.001351  0.001241       2  \n",
       "83  0.003078 -0.008719 -0.001723       2  \n",
       "\n",
       "[84 rows x 11 columns]"
      ]
     },
     "execution_count": 168,
     "metadata": {},
     "output_type": "execute_result"
    }
   ],
   "source": [
    "principalDf"
   ]
  },
  {
   "cell_type": "code",
   "execution_count": 183,
   "metadata": {},
   "outputs": [
    {
     "data": {
      "image/png": "[encoded data removed]",
      "text/plain": [
       "<Figure size 432x288 with 1 Axes>"
      ]
     },
     "metadata": {
      "needs_background": "light"
     },
     "output_type": "display_data"
    }
   ],
   "source": [
    "from mpl_toolkits.mplot3d import axes3d\n",
    "\n",
    "fig = plt.figure()\n",
    "ax = fig.add_subplot(111, projection='3d')\n",
    "ax.scatter(principalDf['pc1'], principalDf['pc2'],principalDf['pc3'], c=principalDf['Target'], s=40)\n",
    "ax.view_init(90, 180)\n",
    "plt.show()\n",
    "\n"
   ]
  },
  {
   "cell_type": "code",
   "execution_count": 182,
   "metadata": {},
   "outputs": [
    {
     "data": {
      "image/png": "[encoded data removed]",
      "text/plain": [
       "<Figure size 432x288 with 1 Axes>"
      ]
     },
     "metadata": {
      "needs_background": "light"
     },
     "output_type": "display_data"
    }
   ],
   "source": [
    "from mpl_toolkits.mplot3d import axes3d\n",
    "\n",
    "fig = plt.figure()\n",
    "ax = fig.add_subplot(111, projection='3d')\n",
    "ax.scatter(X.iloc[:,7], X.iloc[:,8], X.iloc[:,9], c=df['\"TARGET\"'], s=40)\n",
    "ax.view_init(90, 180)\n",
    "plt.show()\n",
    "\n"
   ]
  },
  {
   "cell_type": "code",
   "execution_count": 222,
   "metadata": {},
   "outputs": [],
   "source": [
    "X2d_xmin, X2d_xmax = np.min(X_Train_embedded.iloc[:,0]), np.max(X_Train_embedded.iloc[:,0])\n",
    "X2d_ymin, X2d_ymax = np.min(X_Train_embedded.iloc[:,1]), np.max(X_Train_embedded.iloc[:,1])"
   ]
  },
  {
   "cell_type": "code",
   "execution_count": 221,
   "metadata": {},
   "outputs": [
    {
     "data": {
      "text/plain": [
       "-2.726213669407548"
      ]
     },
     "execution_count": 221,
     "metadata": {},
     "output_type": "execute_result"
    }
   ],
   "source": [
    "np.min(X_Train_embedded.iloc[:,0])"
   ]
  },
  {
   "cell_type": "code",
   "execution_count": 5,
   "metadata": {},
   "outputs": [],
   "source": [
    "df = NEWDF"
   ]
  },
  {
   "cell_type": "code",
   "execution_count": 13,
   "metadata": {},
   "outputs": [
    {
     "name": "stderr",
     "output_type": "stream",
     "text": [
      "/opt/anaconda3/lib/python3.7/site-packages/pandas/core/ops/__init__.py:1115: FutureWarning: elementwise comparison failed; returning scalar instead, but in the future will perform elementwise comparison\n",
      "  result = method(y)\n"
     ]
    }
   ],
   "source": [
    "# separating X and Y from the original unbalnced dataframe for testing the model on different data-frames\n",
    "#class 0 vs class 1\n",
    "\n",
    "df.loc[df['\"TARGET\"'] == \"0\", \"TARGET\"] = 0\n",
    "df.loc[df['\"TARGET\"'] == \"1\", \"TARGET\"] = 1\n",
    "df.loc[df['\"TARGET\"'] == \"2\", \"TARGET\"] = 2\n",
    "#df[\"TARGET\"] = df[\"TARGET\"].astype(\"int\")\n",
    "class_zero = (df['\"TARGET\"'] == 0).values\n",
    "class_one = (df['\"TARGET\"'] == 1).values\n",
    "class_two = (df['\"TARGET\"'] == 2).values\n",
    "zero_one = df.loc[class_zero | class_one].copy()\n",
    "zero_two = df.loc[class_zero | class_two].copy()\n",
    "one_two = df.loc[class_one| class_two].copy()\n",
    "\n",
    "X01 = zero_one.iloc[:,0:-2]\n",
    "y01 = zero_one.iloc[:,-2]\n",
    "\n",
    "X02 = zero_two.iloc[:,0:-2]\n",
    "y02 = zero_two.iloc[:,-2]\n",
    "\n",
    "X12 = one_two.iloc[:,0:-2]\n",
    "y12 = one_two.iloc[:,-2]"
   ]
  },
  {
   "cell_type": "code",
   "execution_count": 14,
   "metadata": {},
   "outputs": [],
   "source": [
    "X01.iloc[:,0:4]=X01.iloc[:,0:4]/1000\n",
    "X02.iloc[:,0:4]=X02.iloc[:,0:4]/1000\n",
    "X12.iloc[:,0:4]=X12.iloc[:,0:4]/1000\n"
   ]
  },
  {
   "cell_type": "code",
   "execution_count": 196,
   "metadata": {},
   "outputs": [
    {
     "name": "stdout",
     "output_type": "stream",
     "text": [
      "[[14  9  5]\n",
      " [ 7 14  7]\n",
      " [11  9  8]]\n"
     ]
    },
    {
     "data": {
      "image/png": "[encoded data removed]",
      "text/plain": [
       "<Figure size 432x288 with 2 Axes>"
      ]
     },
     "metadata": {
      "needs_background": "light"
     },
     "output_type": "display_data"
    }
   ],
   "source": [
    "# Plot confusion matrix\n",
    "from sklearn.metrics import confusion_matrix\n",
    "import seaborn as sns\n",
    "print(confusion_matrix(df['\"TARGET\"'], y_pred))\n",
    "sns.heatmap(confusion_matrix(df['\"TARGET\"'], y_pred), annot=True, fmt='d', cmap=\"Reds\"); #annot=True to annotate cells fmt: format\n",
    "\n",
    "\n"
   ]
  },
  {
   "cell_type": "code",
   "execution_count": 215,
   "metadata": {},
   "outputs": [
    {
     "name": "stdout",
     "output_type": "stream",
     "text": [
      "(47, 8)\n"
     ]
    }
   ],
   "source": [
    "#SPLIT DATA INTO TRAIN AND TEST SET\n",
    "\n",
    "from sklearn.model_selection import train_test_split\n",
    "\n",
    "\n",
    "X_train, X_test, y_train, y_test = train_test_split(X01,y01,  #X_scaled\n",
    "                                                    test_size =0.3, #by default is 75%-25%\n",
    "                                                    #shuffle is set True by default,\n",
    "                                                    #stratify=y,\n",
    "                                                    random_state= 123) #fix random seed for replicability\n",
    "\n",
    "print(X_train.shape)\n",
    "\n",
    "\n"
   ]
  },
  {
   "cell_type": "code",
   "execution_count": 17,
   "metadata": {},
   "outputs": [],
   "source": [
    "#DEFINE THE CLASSIFIER and THE PARAMETERS GRID\n",
    "#WE CHOOSE DIFFERENT KERNEL AND GAMMA\n",
    "from sklearn.svm import SVC\n",
    "\n",
    "classifier = SVC()\n",
    "parameters = {\"kernel\":['linear','poly','rbf'], \"C\":[0.1,100],\"gamma\":[1e-4,0.01,1]}"
   ]
  },
  {
   "cell_type": "code",
   "execution_count": 18,
   "metadata": {},
   "outputs": [],
   "source": [
    "#DEFINE YOUR GRIDSEARCH \n",
    "#I'VE IMPLEMENTED A CROSS-VALIDATION IN ORDER TO GAIN THE MAX ACCURACY AND AVOID \n",
    "#OVERFITTING OF A NOISY DATASET\n",
    "'''\n",
    "GS perfoms an exhaustive search over specified parameter values for an estimator.\n",
    "GS uses a Stratified K-Folds cross-validator\n",
    "(The folds are made by preserving the percentage of samples for each class.)\n",
    "If refit=True the model is retrained on the whole training set with the best found params\n",
    "'''\n",
    "from sklearn.model_selection import GridSearchCV\n",
    "gs = GridSearchCV(classifier, parameters, cv=10, scoring = 'accuracy', verbose=50, n_jobs=-1, refit=True)"
   ]
  },
  {
   "cell_type": "code",
   "execution_count": 37,
   "metadata": {},
   "outputs": [
    {
     "name": "stdout",
     "output_type": "stream",
     "text": [
      "Fitting 3 folds for each of 18 candidates, totalling 54 fits\n",
      "[Parallel(n_jobs=-1)]: Using backend LokyBackend with 8 concurrent workers.\n",
      "[Parallel(n_jobs=-1)]: Done   1 tasks      | elapsed:    0.0s\n",
      "[Parallel(n_jobs=-1)]: Batch computation too fast (0.0386s.) Setting batch_size=10.\n",
      "[Parallel(n_jobs=-1)]: Done   2 tasks      | elapsed:    0.0s\n",
      "[Parallel(n_jobs=-1)]: Done   3 tasks      | elapsed:    0.1s\n",
      "[Parallel(n_jobs=-1)]: Done   4 tasks      | elapsed:    0.1s\n",
      "[Parallel(n_jobs=-1)]: Done   5 tasks      | elapsed:    0.1s\n",
      "[Parallel(n_jobs=-1)]: Done   7 out of  54 | elapsed:    0.1s remaining:    0.5s\n",
      "[Parallel(n_jobs=-1)]: Done   9 out of  54 | elapsed:    0.1s remaining:    0.4s\n",
      "[Parallel(n_jobs=-1)]: Done  11 out of  54 | elapsed:    0.1s remaining:    0.3s\n",
      "[Parallel(n_jobs=-1)]: Done  13 out of  54 | elapsed:    0.1s remaining:    0.3s\n",
      "[Parallel(n_jobs=-1)]: Done  43 out of  54 | elapsed:    1.0s remaining:    0.3s\n",
      "[Parallel(n_jobs=-1)]: Done  54 out of  54 | elapsed:    1.1s finished\n",
      "              precision    recall  f1-score   support\n",
      "\n",
      "           0       0.65      0.71      0.68        28\n",
      "           1       0.68      0.61      0.64        28\n",
      "\n",
      "    accuracy                           0.66        56\n",
      "   macro avg       0.66      0.66      0.66        56\n",
      "weighted avg       0.66      0.66      0.66        56\n",
      "\n"
     ]
    },
    {
     "name": "stderr",
     "output_type": "stream",
     "text": [
      "/opt/anaconda3/lib/python3.7/site-packages/sklearn/model_selection/_search.py:814: DeprecationWarning: The default of the `iid` parameter will change from True to False in version 0.22 and will be removed in 0.24. This will change numeric results when test-set sizes are unequal.\n",
      "  DeprecationWarning)\n"
     ]
    }
   ],
   "source": [
    "gs01 = GridSearchCV(classifier, parameters, cv=10, scoring = 'accuracy', verbose=50, n_jobs=-1, refit=True)\n",
    "gs01 = gs.fit(X01,y01)\n",
    "best_model01 = gs01.best_estimator_\n",
    "y_pred01 = best_model01.predict(X01)\n",
    "from sklearn.metrics import classification_report\n",
    "print(classification_report(y01, y_pred01))"
   ]
  },
  {
   "cell_type": "code",
   "execution_count": 39,
   "metadata": {},
   "outputs": [
    {
     "name": "stdout",
     "output_type": "stream",
     "text": [
      "Fitting 3 folds for each of 18 candidates, totalling 54 fits\n",
      "[Parallel(n_jobs=-1)]: Using backend LokyBackend with 8 concurrent workers.\n",
      "[Parallel(n_jobs=-1)]: Done   1 tasks      | elapsed:    0.0s\n",
      "[Parallel(n_jobs=-1)]: Batch computation too fast (0.0329s.) Setting batch_size=12.\n",
      "[Parallel(n_jobs=-1)]: Done   2 tasks      | elapsed:    0.0s\n",
      "[Parallel(n_jobs=-1)]: Done   3 tasks      | elapsed:    0.0s\n",
      "[Parallel(n_jobs=-1)]: Done   4 tasks      | elapsed:    0.1s\n",
      "[Parallel(n_jobs=-1)]: Done   5 tasks      | elapsed:    0.1s\n",
      "[Parallel(n_jobs=-1)]: Done   7 out of  54 | elapsed:    0.1s remaining:    0.4s\n",
      "[Parallel(n_jobs=-1)]: Done   9 out of  54 | elapsed:    0.1s remaining:    0.3s\n",
      "[Parallel(n_jobs=-1)]: Done  11 out of  54 | elapsed:    0.1s remaining:    0.2s\n",
      "[Parallel(n_jobs=-1)]: Done  13 out of  54 | elapsed:    0.1s remaining:    0.2s\n",
      "[Parallel(n_jobs=-1)]: Done  15 out of  54 | elapsed:    0.1s remaining:    0.2s\n",
      "[Parallel(n_jobs=-1)]: Done  54 out of  54 | elapsed:    2.3s finished\n",
      "              precision    recall  f1-score   support\n",
      "\n",
      "           0       0.72      1.00      0.84        28\n",
      "           2       1.00      0.61      0.76        28\n",
      "\n",
      "    accuracy                           0.80        56\n",
      "   macro avg       0.86      0.80      0.80        56\n",
      "weighted avg       0.86      0.80      0.80        56\n",
      "\n"
     ]
    },
    {
     "name": "stderr",
     "output_type": "stream",
     "text": [
      "/opt/anaconda3/lib/python3.7/site-packages/sklearn/model_selection/_search.py:814: DeprecationWarning: The default of the `iid` parameter will change from True to False in version 0.22 and will be removed in 0.24. This will change numeric results when test-set sizes are unequal.\n",
      "  DeprecationWarning)\n"
     ]
    }
   ],
   "source": [
    "gs02 = GridSearchCV(classifier, parameters, cv=10, scoring = 'accuracy', verbose=50, n_jobs=-1, refit=True)\n",
    "gs02 = gs.fit(X02,y02)\n",
    "best_model02 = gs02.best_estimator_\n",
    "y_pred02 = best_model02.predict(X02)\n",
    "from sklearn.metrics import classification_report\n",
    "print(classification_report(y02, y_pred02))"
   ]
  },
  {
   "cell_type": "code",
   "execution_count": 44,
   "metadata": {},
   "outputs": [
    {
     "name": "stdout",
     "output_type": "stream",
     "text": [
      "[[28  0]\n",
      " [11 17]]\n"
     ]
    },
    {
     "data": {
      "image/png": "[encoded data removed]",
      "text/plain": [
       "<Figure size 432x288 with 2 Axes>"
      ]
     },
     "metadata": {
      "needs_background": "light"
     },
     "output_type": "display_data"
    }
   ],
   "source": [
    "from sklearn.metrics import confusion_matrix\n",
    "import seaborn as sns\n",
    "print(confusion_matrix(y02, y_pred02))\n",
    "sns.heatmap(confusion_matrix(y02, y_pred02), annot=True, fmt='d', cmap=\"Reds\"); #annot=True to annotate cells fmt: format\n",
    "\n"
   ]
  },
  {
   "cell_type": "code",
   "execution_count": 129,
   "metadata": {},
   "outputs": [
    {
     "name": "stdout",
     "output_type": "stream",
     "text": [
      "(44, 10)\n"
     ]
    }
   ],
   "source": [
    "#SPLIT DATA INTO TRAIN AND TEST SET\n",
    "\n",
    "from sklearn.model_selection import train_test_split\n",
    "\n",
    "\n",
    "X_train, X_test, y_train, y_test = train_test_split(X12,y12,  #X_scaled\n",
    "                                                    test_size =0.2, #by default is 75%-25%\n",
    "                                                    #shuffle is set True by default,\n",
    "                                                    #stratify=y,\n",
    "                                                    random_state= 123) #fix random seed for replicability\n",
    "\n",
    "print(X_train.shape)"
   ]
  },
  {
   "cell_type": "code",
   "execution_count": null,
   "metadata": {},
   "outputs": [],
   "source": [
    "gs02 = GridSearchCV(classifier, parameters, cv=10, scoring = 'accuracy', verbose=50, n_jobs=-1, refit=True)\n",
    "gs02 = gs.fit(X12,y12)\n",
    "best_model12 = gs12.best_estimator_\n",
    "y_pred02 = best_model02.predict(X02)\n",
    "from sklearn.metrics import classification_report\n",
    "print(classification_report(y12, y_pred12))"
   ]
  },
  {
   "cell_type": "code",
   "execution_count": 205,
   "metadata": {},
   "outputs": [
    {
     "name": "stdout",
     "output_type": "stream",
     "text": [
      "              precision    recall  f1-score   support\n",
      "\n",
      "           1       0.77      0.82      0.79        28\n",
      "           2       0.81      0.75      0.78        28\n",
      "\n",
      "    accuracy                           0.79        56\n",
      "   macro avg       0.79      0.79      0.79        56\n",
      "weighted avg       0.79      0.79      0.79        56\n",
      "\n"
     ]
    }
   ],
   "source": [
    "gs12 = GridSearchCV(classifier, parameters, cv=10, scoring = 'accuracy', verbose=50, n_jobs=-1, refit=True)\n",
    "gs12 = gs.fit(X12,y12)\n",
    "best_model12 = gs12.best_estimator_\n",
    "y_pred12 = best_model02.predict(X12)\n",
    "from sklearn.metrics import classification_report\n",
    "print(classification_report(y12, y_pred12))"
   ]
  },
  {
   "cell_type": "code",
   "execution_count": 5,
   "metadata": {},
   "outputs": [
    {
     "name": "stderr",
     "output_type": "stream",
     "text": [
      "/opt/anaconda3/lib/python3.7/site-packages/pandas/core/ops/__init__.py:1115: FutureWarning: elementwise comparison failed; returning scalar instead, but in the future will perform elementwise comparison\n",
      "  result = method(y)\n"
     ]
    }
   ],
   "source": [
    "#class 0 vs class 1\n",
    "df = DATA\n",
    "df.loc[df.Target == \"0\", \"Target\"] = 0\n",
    "df.loc[df.Target == \"1\", \"Target\"] = 1\n",
    "df.loc[df.Target == \"2\", \"Target\"] = 2\n",
    "df[\"Target\"] = df[\"Target\"].astype(\"int\")\n",
    "class_zero = (df.Target == 0).values\n",
    "class_one = (df.Target == 1).values\n",
    "class_two = (df.Target == 2).values\n",
    "zero_one = df.loc[class_zero | class_one].copy()\n",
    "zero_two = df.loc[class_zero | class_two].copy()\n",
    "one_two = df.loc[class_one| class_two].copy()"
   ]
  },
  {
   "cell_type": "code",
   "execution_count": 63,
   "metadata": {},
   "outputs": [
    {
     "name": "stdout",
     "output_type": "stream",
     "text": [
      "[[23  5]\n",
      " [ 7 21]]\n"
     ]
    },
    {
     "data": {
      "image/png": "[encoded data removed]",
      "text/plain": [
       "<Figure size 432x288 with 2 Axes>"
      ]
     },
     "metadata": {
      "needs_background": "light"
     },
     "output_type": "display_data"
    }
   ],
   "source": [
    "# Plot confusion matrix\n",
    "import seaborn as sns\n",
    "print(confusion_matrix(y12, y_pred12))\n",
    "sns.heatmap(confusion_matrix(y12, y_pred12), annot=True, fmt='d', cmap=\"Reds\"); #annot=True to annotate cells fmt: format\n",
    "\n"
   ]
  },
  {
   "cell_type": "code",
   "execution_count": 309,
   "metadata": {},
   "outputs": [
    {
     "name": "stderr",
     "output_type": "stream",
     "text": [
      "/opt/anaconda3/lib/python3.7/site-packages/sklearn/linear_model/logistic.py:432: FutureWarning: Default solver will be changed to 'lbfgs' in 0.22. Specify a solver to silence this warning.\n",
      "  FutureWarning)\n",
      "/opt/anaconda3/lib/python3.7/site-packages/sklearn/svm/base.py:193: FutureWarning: The default value of gamma will change from 'auto' to 'scale' in version 0.22 to account better for unscaled features. Set gamma explicitly to 'auto' or 'scale' to avoid this warning.\n",
      "  \"avoid this warning.\", FutureWarning)\n"
     ]
    },
    {
     "data": {
      "text/plain": [
       "<matplotlib.collections.PathCollection at 0x7f8eb8269490>"
      ]
     },
     "execution_count": 309,
     "metadata": {},
     "output_type": "execute_result"
    },
    {
     "data": {
      "image/png": "[encoded data removed]",
      "text/plain": [
       "<Figure size 432x288 with 1 Axes>"
      ]
     },
     "metadata": {
      "needs_background": "light"
     },
     "output_type": "display_data"
    }
   ],
   "source": [
    "import numpy as np, matplotlib.pyplot as plt\n",
    "from sklearn.neighbors.classification import KNeighborsClassifier\n",
    "from sklearn.datasets.base import load_iris\n",
    "from sklearn.manifold.t_sne import TSNE\n",
    "from sklearn.linear_model.logistic import LogisticRegression\n",
    "\n",
    "# replace the below by your data and model\n",
    "\n",
    "X= X12\n",
    "#X_Train_embedded = TSNE(n_components=2).fit_transform(X)\n",
    "X_Train_embedded = TruncatedSVD(n_components=2, random_state=0).fit_transform(X)\n",
    "\n",
    "model = LogisticRegression().fit(X,y12)\n",
    "y_predicted = y12\n",
    "\n",
    "\n",
    "# replace the above by your data and model\n",
    "\n",
    "# create meshgrid\n",
    "resolution = 100 # 100x100 background pixels\n",
    "X2d_xmin, X2d_xmax = np.min(X_Train_embedded[:,0]), np.max(X_Train_embedded[:,0])\n",
    "X2d_ymin, X2d_ymax = np.min(X_Train_embedded[:,1]), np.max(X_Train_embedded[:,1])\n",
    "xx, yy = np.meshgrid(np.linspace(X2d_xmin, X2d_xmax, resolution), np.linspace(X2d_ymin, X2d_ymax, resolution))\n",
    "\n",
    "# approximate Voronoi tesselation on resolution x resolution grid using 1-NN\n",
    "background_model = SVC().fit(X_Train_embedded, y_predicted) \n",
    "voronoiBackground = background_model.predict(np.c_[xx.ravel(), yy.ravel()])\n",
    "voronoiBackground = voronoiBackground.reshape((resolution, resolution))\n",
    "\n",
    "#plot\n",
    "plt.contourf(xx, yy, voronoiBackground)\n",
    "plt.scatter(X_Train_embedded[:,0], X_Train_embedded[:,1], c=y12)"
   ]
  },
  {
   "cell_type": "code",
   "execution_count": 164,
   "metadata": {},
   "outputs": [
    {
     "name": "stdout",
     "output_type": "stream",
     "text": [
      "[t-SNE] Computing 55 nearest neighbors...\n",
      "[t-SNE] Indexed 56 samples in 0.000s...\n",
      "[t-SNE] Computed neighbors for 56 samples in 0.001s...\n",
      "[t-SNE] Computed conditional probabilities for sample 56 / 56\n",
      "[t-SNE] Mean sigma: 27.712399\n",
      "[t-SNE] Computed conditional probabilities in 0.003s\n",
      "[t-SNE] Iteration 50: error = 46.6222458, gradient norm = 0.5655122 (50 iterations in 0.017s)\n",
      "[t-SNE] Iteration 100: error = 45.9691658, gradient norm = 0.5235105 (50 iterations in 0.017s)\n",
      "[t-SNE] Iteration 150: error = 45.1513405, gradient norm = 0.5932321 (50 iterations in 0.017s)\n",
      "[t-SNE] Iteration 200: error = 49.6685562, gradient norm = 0.4666854 (50 iterations in 0.018s)\n",
      "[t-SNE] Iteration 250: error = 48.3633575, gradient norm = 0.5814003 (50 iterations in 0.019s)\n",
      "[t-SNE] KL divergence after 250 iterations with early exaggeration: 48.363358\n",
      "[t-SNE] Iteration 300: error = 1.0440470, gradient norm = 0.0015289 (50 iterations in 0.017s)\n",
      "[t-SNE] Iteration 350: error = 0.9077327, gradient norm = 0.0007242 (50 iterations in 0.018s)\n",
      "[t-SNE] Iteration 400: error = 0.7609699, gradient norm = 0.0005291 (50 iterations in 0.016s)\n",
      "[t-SNE] Iteration 450: error = 0.6966407, gradient norm = 0.0004402 (50 iterations in 0.016s)\n",
      "[t-SNE] Iteration 500: error = 0.6573714, gradient norm = 0.0003276 (50 iterations in 0.016s)\n",
      "[t-SNE] Iteration 550: error = 0.6131184, gradient norm = 0.0003002 (50 iterations in 0.016s)\n",
      "[t-SNE] Iteration 600: error = 0.5802134, gradient norm = 0.0004043 (50 iterations in 0.016s)\n",
      "[t-SNE] Iteration 650: error = 0.5282614, gradient norm = 0.0003706 (50 iterations in 0.016s)\n",
      "[t-SNE] Iteration 700: error = 0.4762387, gradient norm = 0.0003064 (50 iterations in 0.017s)\n",
      "[t-SNE] Iteration 750: error = 0.4290342, gradient norm = 0.0004201 (50 iterations in 0.016s)\n",
      "[t-SNE] Iteration 800: error = 0.3529072, gradient norm = 0.0005234 (50 iterations in 0.018s)\n",
      "[t-SNE] Iteration 850: error = 0.3189452, gradient norm = 0.0001859 (50 iterations in 0.015s)\n",
      "[t-SNE] Iteration 900: error = 0.3109692, gradient norm = 0.0001258 (50 iterations in 0.015s)\n",
      "[t-SNE] Iteration 950: error = 0.3064678, gradient norm = 0.0000440 (50 iterations in 0.016s)\n",
      "[t-SNE] Iteration 1000: error = 0.3056295, gradient norm = 0.0000213 (50 iterations in 0.015s)\n",
      "[t-SNE] KL divergence after 1000 iterations: 0.305630\n"
     ]
    }
   ],
   "source": [
    "from sklearn.manifold import TSNE\n",
    "from sklearn.decomposition import TruncatedSVD\n",
    "\n",
    "import matplotlib.pyplot as plt\n",
    "X_Train_reduced = TruncatedSVD(n_components=7, random_state=0).fit_transform(X01)\n",
    "X_Train_embedded = TSNE(n_components=2, perplexity=40, verbose=2).fit_transform(X_Train_reduced)\n",
    "\n",
    "#some convert lists of lists to 2 dataframes (df_train_neg, df_train_pos) depending on the label - \n",
    "\n",
    "#plot the negative points and positive points\n",
    "#plt.scatter(df_train_neg.val1, df_train_neg.val2, marker='o', c='red')\n",
    "#plt.scatter(df_train_pos.val1, df_train_pos.val2, marker='x', c='green')"
   ]
  },
  {
   "cell_type": "code",
   "execution_count": 157,
   "metadata": {},
   "outputs": [
    {
     "data": {
      "text/plain": [
       "[<matplotlib.lines.Line2D at 0x7f8eabb32c10>]"
      ]
     },
     "execution_count": 157,
     "metadata": {},
     "output_type": "execute_result"
    },
    {
     "data": {
      "image/png": "[encoded data removed]",
      "text/plain": [
       "<Figure size 432x288 with 1 Axes>"
      ]
     },
     "metadata": {
      "needs_background": "light"
     },
     "output_type": "display_data"
    }
   ],
   "source": [
    "import numpy as np\n",
    "\n",
    "\n",
    "\n",
    "fig,ax = plt.subplots(1,1)\n",
    "plt.plot(X_Train_embedded[y01.iloc[:]==0,0],X_Train_embedded[y01.iloc[:]==0,1],'gv')\n",
    "plt.plot(X_Train_embedded[y01.iloc[:]==1,0],X_Train_embedded[y01.iloc[:]==1,1],'rv')\n",
    "\n"
   ]
  },
  {
   "cell_type": "code",
   "execution_count": null,
   "metadata": {},
   "outputs": [],
   "source": []
  }
 ],
 "metadata": {
  "kernelspec": {
   "display_name": "Python 3",
   "language": "python",
   "name": "python3"
  },
  "language_info": {
   "codemirror_mode": {
    "name": "ipython",
    "version": 3
   },
   "file_extension": ".py",
   "mimetype": "text/x-python",
   "name": "python",
   "nbconvert_exporter": "python",
   "pygments_lexer": "ipython3",
   "version": "3.7.4"
  }
 },
 "nbformat": 4,
 "nbformat_minor": 2
}
